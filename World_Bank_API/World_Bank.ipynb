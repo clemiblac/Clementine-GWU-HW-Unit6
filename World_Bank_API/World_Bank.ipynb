{
 "cells": [
  {
   "cell_type": "code",
   "execution_count": 1,
   "metadata": {},
   "outputs": [
    {
     "data": {
      "text/plain": [
       "[{'page': '1', 'pages': '1', 'per_page': '50', 'total': '4'},\n",
       " [{'id': 'IBD', 'iso2code': 'XF', 'value': 'IBRD'},\n",
       "  {'id': 'IDB', 'iso2code': 'XH', 'value': 'Blend'},\n",
       "  {'id': 'IDX', 'iso2code': 'XI', 'value': 'IDA'},\n",
       "  {'id': 'LNX', 'iso2code': 'XX', 'value': 'Not classified'}]]"
      ]
     },
     "execution_count": 1,
     "metadata": {},
     "output_type": "execute_result"
    }
   ],
   "source": [
    "# Dependencies\n",
    "import requests\n",
    "import json\n",
    "import pandas as pd\n",
    "\n",
    "base_url = \"http://api.worldbank.org/v2/\"\n",
    "url=base_url+\"lendingtypes\"+\"?format=json\"\n",
    "#http://api.worldbank.org/v2/topic?format=json\n",
    "response=requests.get(url).json()\n",
    "response"
   ]
  },
  {
   "cell_type": "code",
   "execution_count": 2,
   "metadata": {},
   "outputs": [
    {
     "name": "stdout",
     "output_type": "stream",
     "text": [
      "['IBD', 'IDB', 'IDX', 'LNX']\n"
     ]
    },
    {
     "data": {
      "text/plain": [
       "['IBRD', 'Blend', 'IDA', 'Not classified']"
      ]
     },
     "execution_count": 2,
     "metadata": {},
     "output_type": "execute_result"
    }
   ],
   "source": [
    "# Get the list of lending types the world bank has\n",
    "t=response[1]\n",
    "#t\n",
    "code_description=[]\n",
    "lending_types=[]\n",
    "for l in t:\n",
    "    name=l['id']\n",
    "    description=l['value']\n",
    "    #print(name)\n",
    "    lending_types.append(name)\n",
    "    code_description.append(description)\n",
    "print(lending_types)\n",
    "code_description"
   ]
  },
  {
   "cell_type": "code",
   "execution_count": null,
   "metadata": {},
   "outputs": [],
   "source": []
  },
  {
   "cell_type": "code",
   "execution_count": 3,
   "metadata": {},
   "outputs": [
    {
     "data": {
      "text/plain": [
       "['http://api.worldbank.org/v2/country?page=1&format=json',\n",
       " 'http://api.worldbank.org/v2/country?page=2&format=json',\n",
       " 'http://api.worldbank.org/v2/country?page=3&format=json',\n",
       " 'http://api.worldbank.org/v2/country?page=4&format=json',\n",
       " 'http://api.worldbank.org/v2/country?page=5&format=json',\n",
       " 'http://api.worldbank.org/v2/country?page=6&format=json',\n",
       " 'http://api.worldbank.org/v2/country?page=7&format=json']"
      ]
     },
     "execution_count": 3,
     "metadata": {},
     "output_type": "execute_result"
    }
   ],
   "source": [
    "# Next, determine how many countries fall into each lending type.\n",
    "# Hint: Look at the first element of the response array.\n",
    "query_list=[]\n",
    "for i in range(1,8):\n",
    "    url2=f\"http://api.worldbank.org/v2/country?page={i}&format=json\"\n",
    "    #print(url2)\n",
    "    query_list.append(url2)\n",
    "query_list\n",
    "\n"
   ]
  },
  {
   "cell_type": "code",
   "execution_count": 4,
   "metadata": {},
   "outputs": [],
   "source": [
    "page_1=requests.get(query_list[0]).json()\n",
    "page_2=requests.get(query_list[1]).json()\n",
    "page_3=requests.get(query_list[2]).json()\n",
    "page_4=requests.get(query_list[3]).json()\n",
    "page_5=requests.get(query_list[4]).json()\n",
    "page_6=requests.get(query_list[5]).json()\n",
    "page_7=requests.get(query_list[6]).json()\n",
    "\n",
    "#page_1\n",
    "list_1=page_1[1]\n",
    "list_2=page_2[1]\n",
    "list_3=page_3[1]\n",
    "list_4=page_4[1]\n",
    "list_5=page_5[1]\n",
    "list_6=page_6[1]\n",
    "list_7=page_7[1]\n"
   ]
  },
  {
   "cell_type": "code",
   "execution_count": 5,
   "metadata": {},
   "outputs": [
    {
     "data": {
      "text/plain": [
       "{'LNX': 74, 'IDX': 59, '': 86, 'IBD': 68, 'IDB': 17}"
      ]
     },
     "execution_count": 5,
     "metadata": {},
     "output_type": "execute_result"
    }
   ],
   "source": [
    "final_list=[]\n",
    "#page_1\n",
    "lending_list1=[]\n",
    "for i in list_1:\n",
    "    ltype=i['lendingType']['id']\n",
    "    lending_list1.append(ltype)\n",
    "    l1=lending_list1\n",
    "\n",
    "for i in l1:\n",
    "    final_list.append(i)\n",
    "\n",
    "#page_2\n",
    "lending_list2=[]\n",
    "for i in list_2:\n",
    "    ltype=i['lendingType']['id']\n",
    "    lending_list2.append(ltype)\n",
    "    l2=lending_list2\n",
    "\n",
    "for i in l2:\n",
    "    final_list.append(i)\n",
    "\n",
    "#page_3\n",
    "lending_list3=[]\n",
    "for i in list_3:\n",
    "    ltype=i['lendingType']['id']\n",
    "    lending_list3.append(ltype)\n",
    "    l3=lending_list3\n",
    "\n",
    "for i in l3:\n",
    "    final_list.append(i)\n",
    "\n",
    "#page_4\n",
    "lending_list4=[]\n",
    "for i in list_4:\n",
    "    ltype=i['lendingType']['id']\n",
    "    lending_list4.append(ltype)\n",
    "    l4=lending_list4\n",
    "    \n",
    "for i in l4:\n",
    "    final_list.append(i)\n",
    "\n",
    "#page_5\n",
    "lending_list5=[]\n",
    "for i in list_5:\n",
    "    ltype=i['lendingType']['id']\n",
    "    lending_list5.append(ltype)\n",
    "    l5=lending_list5\n",
    "    \n",
    "for i in l5:\n",
    "    final_list.append(i)\n",
    "\n",
    "#page_6\n",
    "lending_list6=[]\n",
    "for i in list_6:\n",
    "    ltype=i['lendingType']['id']\n",
    "    lending_list6.append(ltype)\n",
    "    l6=lending_list6\n",
    "\n",
    "for i in l6:\n",
    "        final_list.append(i)\n",
    "\n",
    "#page_7\n",
    "lending_list7=[]\n",
    "for i in list_7:\n",
    "    ltype=i['lendingType']['id']\n",
    "    lending_list7.append(ltype)\n",
    "    l7=lending_list7\n",
    "    \n",
    "for i in l7:\n",
    "        final_list.append(i)    \n",
    "        \n",
    "\n",
    "type_count=dict((x,final_list.count(x)) for x in final_list)\n",
    "\n",
    "type_count\n",
    "\n"
   ]
  },
  {
   "cell_type": "code",
   "execution_count": 6,
   "metadata": {},
   "outputs": [
    {
     "data": {
      "text/plain": [
       "['IBD', 'IDB', 'IDX', 'LNX']"
      ]
     },
     "execution_count": 6,
     "metadata": {},
     "output_type": "execute_result"
    }
   ],
   "source": [
    "lending_types"
   ]
  },
  {
   "cell_type": "code",
   "execution_count": 7,
   "metadata": {},
   "outputs": [
    {
     "name": "stdout",
     "output_type": "stream",
     "text": [
      "The number of countries with the lending type IBD is 68\n",
      "The number of countries with the lending type IDB is 17\n",
      "The number of countries with the lending type IDX is 59\n",
      "The number of countries with the lending type LNX is 74\n"
     ]
    }
   ],
   "source": [
    "# Print the number of countries of each lending type\n",
    "for i in range(len(lending_types)):\n",
    "    print(f\"The number of countries with the lending type {lending_types[i]} is {type_count[lending_types[i]]}\")"
   ]
  },
  {
   "cell_type": "code",
   "execution_count": 8,
   "metadata": {},
   "outputs": [
    {
     "data": {
      "text/html": [
       "<div>\n",
       "<style scoped>\n",
       "    .dataframe tbody tr th:only-of-type {\n",
       "        vertical-align: middle;\n",
       "    }\n",
       "\n",
       "    .dataframe tbody tr th {\n",
       "        vertical-align: top;\n",
       "    }\n",
       "\n",
       "    .dataframe thead th {\n",
       "        text-align: right;\n",
       "    }\n",
       "</style>\n",
       "<table border=\"1\" class=\"dataframe\">\n",
       "  <thead>\n",
       "    <tr style=\"text-align: right;\">\n",
       "      <th></th>\n",
       "      <th>Lending Type</th>\n",
       "      <th>No. of countries</th>\n",
       "      <th>Description of lending type code</th>\n",
       "    </tr>\n",
       "  </thead>\n",
       "  <tbody>\n",
       "    <tr>\n",
       "      <td>0</td>\n",
       "      <td>IBD</td>\n",
       "      <td>68</td>\n",
       "      <td>IBRD</td>\n",
       "    </tr>\n",
       "    <tr>\n",
       "      <td>1</td>\n",
       "      <td>IDB</td>\n",
       "      <td>17</td>\n",
       "      <td>Blend</td>\n",
       "    </tr>\n",
       "    <tr>\n",
       "      <td>2</td>\n",
       "      <td>IDX</td>\n",
       "      <td>59</td>\n",
       "      <td>IDA</td>\n",
       "    </tr>\n",
       "    <tr>\n",
       "      <td>3</td>\n",
       "      <td>LNX</td>\n",
       "      <td>74</td>\n",
       "      <td>Not classified</td>\n",
       "    </tr>\n",
       "  </tbody>\n",
       "</table>\n",
       "</div>"
      ],
      "text/plain": [
       "  Lending Type  No. of countries Description of lending type code\n",
       "0          IBD                68                             IBRD\n",
       "1          IDB                17                            Blend\n",
       "2          IDX                59                              IDA\n",
       "3          LNX                74                   Not classified"
      ]
     },
     "execution_count": 8,
     "metadata": {},
     "output_type": "execute_result"
    }
   ],
   "source": [
    "#Create a DataFrame that contains the lending type, the description of that lending type code,\n",
    "#as well as the number of countries with that lending type\n",
    "num_countries=[]\n",
    "for i in range(len(lending_types)):\n",
    "    number=type_count[lending_types[i]]\n",
    "    num_countries.append(number)\n",
    "num_countries\n",
    "\n",
    "table=pd.DataFrame(zip(lending_types,num_countries,code_description))\n",
    "\n",
    "\n",
    "table=table.rename(columns={0:\"Lending Type\",1:\"No. of countries\",2:\"Description of lending type code\"})\n",
    "table"
   ]
  },
  {
   "cell_type": "code",
   "execution_count": null,
   "metadata": {},
   "outputs": [],
   "source": []
  }
 ],
 "metadata": {
  "kernelspec": {
   "display_name": "Python 3",
   "language": "python",
   "name": "python3"
  },
  "language_info": {
   "codemirror_mode": {
    "name": "ipython",
    "version": 3
   },
   "file_extension": ".py",
   "mimetype": "text/x-python",
   "name": "python",
   "nbconvert_exporter": "python",
   "pygments_lexer": "ipython3",
   "version": "3.7.4"
  },
  "varInspector": {
   "cols": {
    "lenName": 16,
    "lenType": 16,
    "lenVar": 40
   },
   "kernels_config": {
    "python": {
     "delete_cmd_postfix": "",
     "delete_cmd_prefix": "del ",
     "library": "var_list.py",
     "varRefreshCmd": "print(var_dic_list())"
    },
    "r": {
     "delete_cmd_postfix": ") ",
     "delete_cmd_prefix": "rm(",
     "library": "var_list.r",
     "varRefreshCmd": "cat(var_dic_list()) "
    }
   },
   "types_to_exclude": [
    "module",
    "function",
    "builtin_function_or_method",
    "instance",
    "_Feature"
   ],
   "window_display": false
  }
 },
 "nbformat": 4,
 "nbformat_minor": 2
}
