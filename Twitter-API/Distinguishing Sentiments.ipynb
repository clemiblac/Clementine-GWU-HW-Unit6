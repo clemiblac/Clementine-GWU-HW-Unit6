{
 "cells": [
  {
   "cell_type": "markdown",
   "metadata": {},
   "source": [
    "# Distinguishing Sentiments on Twitter"
   ]
  },
  {
   "cell_type": "code",
   "execution_count": 1,
   "metadata": {},
   "outputs": [
    {
     "data": {
      "text/plain": [
       "'C:\\\\Users\\\\clemi\\\\Desktop\\\\Clementine-GWU-HW\\\\Python_APIs_and_Sentiment_Analysis\\\\Twitter-API'"
      ]
     },
     "execution_count": 1,
     "metadata": {},
     "output_type": "execute_result"
    }
   ],
   "source": [
    "#Identifying working directory in order to locate API key\n",
    "import os\n",
    "orig_working_directory=os.getcwd()\n",
    "orig_working_directory"
   ]
  },
  {
   "cell_type": "code",
   "execution_count": 2,
   "metadata": {},
   "outputs": [
    {
     "data": {
      "text/plain": [
       "'C:\\\\Users\\\\clemi\\\\Desktop\\\\Clementine-GWU-HW'"
      ]
     },
     "execution_count": 2,
     "metadata": {},
     "output_type": "execute_result"
    }
   ],
   "source": [
    "os.chdir(os.path.join('..','..'))\n",
    "curr_working_directory=os.getcwd()\n",
    "curr_working_directory"
   ]
  },
  {
   "cell_type": "code",
   "execution_count": 6,
   "metadata": {},
   "outputs": [],
   "source": [
    "#Importing dependencies\n",
    "import tweepy\n",
    "import json\n",
    "import numpy as np\n",
    "import pandas as pd\n",
    "import matplotlib.pyplot as plt\n",
    "import time"
   ]
  },
  {
   "cell_type": "code",
   "execution_count": 7,
   "metadata": {},
   "outputs": [],
   "source": [
    "# Pulling API keys\n",
    "from tweet_config import consumer_key,consumer_secret,access_token,access_token_secret"
   ]
  },
  {
   "cell_type": "code",
   "execution_count": 9,
   "metadata": {},
   "outputs": [],
   "source": [
    "auth=tweepy.OAuthHandler(consumer_key,consumer_secret)\n",
    "auth.set_access_token(access_token,access_token_secret)\n",
    "api=tweepy.API(auth,parser=tweepy.parsers.JSONParser())"
   ]
  },
  {
   "cell_type": "code",
   "execution_count": 10,
   "metadata": {},
   "outputs": [],
   "source": [
    "from vaderSentiment.vaderSentiment import SentimentIntensityAnalyzer\n",
    "analyzer = SentimentIntensityAnalyzer()"
   ]
  },
  {
   "cell_type": "code",
   "execution_count": 11,
   "metadata": {},
   "outputs": [],
   "source": [
    "# Target Search Terms\n",
    "#BBC, CBS, CNN, Fox, and New York times\n",
    "target_terms = [\"@BBC\", \"@CBS\", \"@CNN\",\"@FoxNews\", \"@nytimes\"]"
   ]
  },
  {
   "cell_type": "code",
   "execution_count": null,
   "metadata": {},
   "outputs": [],
   "source": [
    "# \"Real Person\" Filters\n",
    "min_tweets = 5\n",
    "max_tweets = 10000\n",
    "max_followers = 2500\n",
    "max_following = 2500"
   ]
  },
  {
   "cell_type": "code",
   "execution_count": 12,
   "metadata": {},
   "outputs": [],
   "source": [
    "# List to hold sentiments\n",
    "results_list = []"
   ]
  },
  {
   "cell_type": "code",
   "execution_count": 13,
   "metadata": {},
   "outputs": [],
   "source": [
    "# Loop through all target users\n",
    "for target in target_terms:\n",
    "    news_tweets=api.user_timeline(target,count=100)\n",
    "    tweet_num=1\n",
    "    \n",
    "    # Loop through pages of tweets OR create a cursor\n",
    "    for tweet in news_tweets:\n",
    "        results=tweet[\"text\"]\n",
    "        compound = analyzer.polarity_scores(results)[\"compound\"]\n",
    "        pos = analyzer.polarity_scores(results)[\"pos\"]\n",
    "        neg = analyzer.polarity_scores(results)[\"neg\"]\n",
    "        neu = analyzer.polarity_scores(results)[\"neu\"]\n",
    "        \n",
    "        tweets_ago=tweet_num\n",
    "        # Variables for holding sentiments\n",
    "        results_list.append({\"Source Account\":target,\n",
    "                     \"Text\":results,\n",
    "                     \"Date\":tweet[\"created_at\"],\n",
    "                     \"Compound\":compound,\n",
    "                     \"Positive\":pos,\n",
    "                     \"Neutral\":neu,\n",
    "                     \"Negative\":neg,\n",
    "                     \"Tweet Count\":tweet_num})\n",
    "        tweet_num+=1\n"
   ]
  },
  {
   "cell_type": "markdown",
   "metadata": {},
   "source": [
    "### Creating DataFrame of API response"
   ]
  },
  {
   "cell_type": "code",
   "execution_count": 14,
   "metadata": {},
   "outputs": [
    {
     "data": {
      "text/html": [
       "<div>\n",
       "<style scoped>\n",
       "    .dataframe tbody tr th:only-of-type {\n",
       "        vertical-align: middle;\n",
       "    }\n",
       "\n",
       "    .dataframe tbody tr th {\n",
       "        vertical-align: top;\n",
       "    }\n",
       "\n",
       "    .dataframe thead th {\n",
       "        text-align: right;\n",
       "    }\n",
       "</style>\n",
       "<table border=\"1\" class=\"dataframe\">\n",
       "  <thead>\n",
       "    <tr style=\"text-align: right;\">\n",
       "      <th></th>\n",
       "      <th>Source Account</th>\n",
       "      <th>Text</th>\n",
       "      <th>Date</th>\n",
       "      <th>Compound</th>\n",
       "      <th>Positive</th>\n",
       "      <th>Neutral</th>\n",
       "      <th>Negative</th>\n",
       "      <th>Tweet Count</th>\n",
       "    </tr>\n",
       "  </thead>\n",
       "  <tbody>\n",
       "    <tr>\n",
       "      <td>0</td>\n",
       "      <td>BBC</td>\n",
       "      <td>Get the tissues ready! 😭\\n\\n#BillyElliot follo...</td>\n",
       "      <td>Sun May 31 19:01:00 +0000 2020</td>\n",
       "      <td>0.1007</td>\n",
       "      <td>0.157</td>\n",
       "      <td>0.734</td>\n",
       "      <td>0.108</td>\n",
       "      <td>1</td>\n",
       "    </tr>\n",
       "    <tr>\n",
       "      <td>1</td>\n",
       "      <td>BBC</td>\n",
       "      <td>#DragonsDen: Best Ever Pitches takes a look at...</td>\n",
       "      <td>Sun May 31 18:01:00 +0000 2020</td>\n",
       "      <td>0.8070</td>\n",
       "      <td>0.263</td>\n",
       "      <td>0.665</td>\n",
       "      <td>0.073</td>\n",
       "      <td>2</td>\n",
       "    </tr>\n",
       "    <tr>\n",
       "      <td>2</td>\n",
       "      <td>BBC</td>\n",
       "      <td>I finally have something new to tell my mates ...</td>\n",
       "      <td>Sun May 31 15:01:00 +0000 2020</td>\n",
       "      <td>0.0000</td>\n",
       "      <td>0.000</td>\n",
       "      <td>1.000</td>\n",
       "      <td>0.000</td>\n",
       "      <td>3</td>\n",
       "    </tr>\n",
       "    <tr>\n",
       "      <td>3</td>\n",
       "      <td>BBC</td>\n",
       "      <td>\"Just because I can't see, doesn't mean I can'...</td>\n",
       "      <td>Sun May 31 13:01:00 +0000 2020</td>\n",
       "      <td>-0.1695</td>\n",
       "      <td>0.077</td>\n",
       "      <td>0.821</td>\n",
       "      <td>0.103</td>\n",
       "      <td>4</td>\n",
       "    </tr>\n",
       "    <tr>\n",
       "      <td>4</td>\n",
       "      <td>BBC</td>\n",
       "      <td>Good to see your mum's taking lockdown well! 👍...</td>\n",
       "      <td>Sun May 31 11:01:00 +0000 2020</td>\n",
       "      <td>0.6476</td>\n",
       "      <td>0.325</td>\n",
       "      <td>0.675</td>\n",
       "      <td>0.000</td>\n",
       "      <td>5</td>\n",
       "    </tr>\n",
       "    <tr>\n",
       "      <td>...</td>\n",
       "      <td>...</td>\n",
       "      <td>...</td>\n",
       "      <td>...</td>\n",
       "      <td>...</td>\n",
       "      <td>...</td>\n",
       "      <td>...</td>\n",
       "      <td>...</td>\n",
       "      <td>...</td>\n",
       "    </tr>\n",
       "    <tr>\n",
       "      <td>495</td>\n",
       "      <td>nytimes</td>\n",
       "      <td>Breaking News: Students seeking loan forgivene...</td>\n",
       "      <td>Fri May 29 23:10:04 +0000 2020</td>\n",
       "      <td>0.4215</td>\n",
       "      <td>0.192</td>\n",
       "      <td>0.808</td>\n",
       "      <td>0.000</td>\n",
       "      <td>96</td>\n",
       "    </tr>\n",
       "    <tr>\n",
       "      <td>496</td>\n",
       "      <td>nytimes</td>\n",
       "      <td>“We grew up in a traumatic police state, so I ...</td>\n",
       "      <td>Fri May 29 22:50:05 +0000 2020</td>\n",
       "      <td>-0.5719</td>\n",
       "      <td>0.000</td>\n",
       "      <td>0.861</td>\n",
       "      <td>0.139</td>\n",
       "      <td>97</td>\n",
       "    </tr>\n",
       "    <tr>\n",
       "      <td>497</td>\n",
       "      <td>nytimes</td>\n",
       "      <td>RT @MikeIsaac: Twitter and Facebook have the s...</td>\n",
       "      <td>Fri May 29 22:40:03 +0000 2020</td>\n",
       "      <td>-0.6249</td>\n",
       "      <td>0.000</td>\n",
       "      <td>0.830</td>\n",
       "      <td>0.170</td>\n",
       "      <td>98</td>\n",
       "    </tr>\n",
       "    <tr>\n",
       "      <td>498</td>\n",
       "      <td>nytimes</td>\n",
       "      <td>Read the full complaint: \\nhttps://t.co/3ESoiK...</td>\n",
       "      <td>Fri May 29 22:28:27 +0000 2020</td>\n",
       "      <td>-0.2960</td>\n",
       "      <td>0.000</td>\n",
       "      <td>0.645</td>\n",
       "      <td>0.355</td>\n",
       "      <td>99</td>\n",
       "    </tr>\n",
       "    <tr>\n",
       "      <td>499</td>\n",
       "      <td>nytimes</td>\n",
       "      <td>\"The defendant had his knee on Mr. Floyd’s nec...</td>\n",
       "      <td>Fri May 29 22:28:07 +0000 2020</td>\n",
       "      <td>-0.7304</td>\n",
       "      <td>0.000</td>\n",
       "      <td>0.765</td>\n",
       "      <td>0.235</td>\n",
       "      <td>100</td>\n",
       "    </tr>\n",
       "  </tbody>\n",
       "</table>\n",
       "<p>500 rows × 8 columns</p>\n",
       "</div>"
      ],
      "text/plain": [
       "    Source Account                                               Text  \\\n",
       "0              BBC  Get the tissues ready! 😭\\n\\n#BillyElliot follo...   \n",
       "1              BBC  #DragonsDen: Best Ever Pitches takes a look at...   \n",
       "2              BBC  I finally have something new to tell my mates ...   \n",
       "3              BBC  \"Just because I can't see, doesn't mean I can'...   \n",
       "4              BBC  Good to see your mum's taking lockdown well! 👍...   \n",
       "..             ...                                                ...   \n",
       "495        nytimes  Breaking News: Students seeking loan forgivene...   \n",
       "496        nytimes  “We grew up in a traumatic police state, so I ...   \n",
       "497        nytimes  RT @MikeIsaac: Twitter and Facebook have the s...   \n",
       "498        nytimes  Read the full complaint: \\nhttps://t.co/3ESoiK...   \n",
       "499        nytimes  \"The defendant had his knee on Mr. Floyd’s nec...   \n",
       "\n",
       "                               Date  Compound  Positive  Neutral  Negative  \\\n",
       "0    Sun May 31 19:01:00 +0000 2020    0.1007     0.157    0.734     0.108   \n",
       "1    Sun May 31 18:01:00 +0000 2020    0.8070     0.263    0.665     0.073   \n",
       "2    Sun May 31 15:01:00 +0000 2020    0.0000     0.000    1.000     0.000   \n",
       "3    Sun May 31 13:01:00 +0000 2020   -0.1695     0.077    0.821     0.103   \n",
       "4    Sun May 31 11:01:00 +0000 2020    0.6476     0.325    0.675     0.000   \n",
       "..                              ...       ...       ...      ...       ...   \n",
       "495  Fri May 29 23:10:04 +0000 2020    0.4215     0.192    0.808     0.000   \n",
       "496  Fri May 29 22:50:05 +0000 2020   -0.5719     0.000    0.861     0.139   \n",
       "497  Fri May 29 22:40:03 +0000 2020   -0.6249     0.000    0.830     0.170   \n",
       "498  Fri May 29 22:28:27 +0000 2020   -0.2960     0.000    0.645     0.355   \n",
       "499  Fri May 29 22:28:07 +0000 2020   -0.7304     0.000    0.765     0.235   \n",
       "\n",
       "     Tweet Count  \n",
       "0              1  \n",
       "1              2  \n",
       "2              3  \n",
       "3              4  \n",
       "4              5  \n",
       "..           ...  \n",
       "495           96  \n",
       "496           97  \n",
       "497           98  \n",
       "498           99  \n",
       "499          100  \n",
       "\n",
       "[500 rows x 8 columns]"
      ]
     },
     "execution_count": 14,
     "metadata": {},
     "output_type": "execute_result"
    }
   ],
   "source": [
    "df=pd.DataFrame.from_dict(results_list)\n",
    "#strip the \"@\" Source account because it does not translate well to the CSV\n",
    "df[\"Source Account\"]=df[\"Source Account\"].str.lstrip('@')\n",
    "\n",
    "#sorting the datafram by timestamp\n",
    "df.sort_values(by=['Date'])\n",
    "df"
   ]
  },
  {
   "cell_type": "markdown",
   "metadata": {},
   "source": [
    "### Exporting DataFrame to CSV"
   ]
  },
  {
   "cell_type": "code",
   "execution_count": 15,
   "metadata": {},
   "outputs": [
    {
     "data": {
      "text/plain": [
       "'C:\\\\Users\\\\clemi\\\\Desktop\\\\Clementine-GWU-HW\\\\Python_APIs_and_Sentiment_Analysis\\\\Twitter-API'"
      ]
     },
     "execution_count": 15,
     "metadata": {},
     "output_type": "execute_result"
    }
   ],
   "source": [
    "os.chdir(orig_working_directory)\n",
    "orig_working_directory"
   ]
  },
  {
   "cell_type": "code",
   "execution_count": 16,
   "metadata": {},
   "outputs": [],
   "source": [
    "df.to_csv(\"sentiment_analysis.csv\",encoding=\"utf-8\")"
   ]
  },
  {
   "cell_type": "markdown",
   "metadata": {},
   "source": [
    "### Scatter plot of sentiments of the last **100** tweets sent out by each news organization"
   ]
  },
  {
   "cell_type": "code",
   "execution_count": 17,
   "metadata": {},
   "outputs": [],
   "source": [
    "####https://cmdlinetips.com/2019/04/how-to-specify-colors-to-scatter-plots-in-python/\n",
    "import seaborn\n",
    "import seaborn as sns\n"
   ]
  },
  {
   "cell_type": "code",
   "execution_count": 20,
   "metadata": {},
   "outputs": [
    {
     "data": {
      "text/plain": [
       "Text(0, 0.5, 'Tweet Polarity')"
      ]
     },
     "execution_count": 20,
     "metadata": {},
     "output_type": "execute_result"
    },
    {
     "data": {
      "image/png": "[encoded data removed]",
      "text/plain": [
       "<Figure size 576x576 with 1 Axes>"
      ]
     },
     "metadata": {},
     "output_type": "display_data"
    }
   ],
   "source": [
    "sns.set(style=\"white\")\n",
    "plt.figure(figsize=(8,8))\n",
    "analysis=sns.scatterplot(x=\"Tweet Count\",y='Compound',hue=\"Source Account\", data=df,\n",
    "                palette=['green','orange','brown','dodgerblue','red'],legend='full');\n",
    "\n",
    "#https://stackoverflow.com/questions/53733755/how-to-move-legend-to-outside-of-a-seaborn-scatterplot/53737271\n",
    "analysis.legend(loc='center left', bbox_to_anchor=(1.0, 0.75), ncol=1)\n",
    "\n",
    "analysis.set_title(\"Sentiment Analaysis of Media Tweets (05/31/2020)\")\n",
    "analysis.set_xlabel('Tweet Ago')\n",
    "analysis.set_ylabel('Tweet Polarity')"
   ]
  },
  {
   "cell_type": "code",
   "execution_count": 21,
   "metadata": {},
   "outputs": [],
   "source": [
    "figure = analysis.get_figure()    \n",
    "figure.savefig(\"Images/Sentiment_Analysis_scatter.png\",bbox_inches='tight')"
   ]
  },
  {
   "cell_type": "markdown",
   "metadata": {},
   "source": [
    "### Bar plot visualizing the _overall_ sentiments of the last 100 tweets from each organization"
   ]
  },
  {
   "cell_type": "code",
   "execution_count": 22,
   "metadata": {},
   "outputs": [
    {
     "data": {
      "text/html": [
       "<div>\n",
       "<style scoped>\n",
       "    .dataframe tbody tr th:only-of-type {\n",
       "        vertical-align: middle;\n",
       "    }\n",
       "\n",
       "    .dataframe tbody tr th {\n",
       "        vertical-align: top;\n",
       "    }\n",
       "\n",
       "    .dataframe thead th {\n",
       "        text-align: right;\n",
       "    }\n",
       "</style>\n",
       "<table border=\"1\" class=\"dataframe\">\n",
       "  <thead>\n",
       "    <tr style=\"text-align: right;\">\n",
       "      <th></th>\n",
       "      <th>Source Account</th>\n",
       "      <th>Average Tweet Polarity</th>\n",
       "    </tr>\n",
       "  </thead>\n",
       "  <tbody>\n",
       "    <tr>\n",
       "      <td>0</td>\n",
       "      <td>BBC</td>\n",
       "      <td>0.240805</td>\n",
       "    </tr>\n",
       "    <tr>\n",
       "      <td>1</td>\n",
       "      <td>CBS</td>\n",
       "      <td>0.208701</td>\n",
       "    </tr>\n",
       "    <tr>\n",
       "      <td>2</td>\n",
       "      <td>CNN</td>\n",
       "      <td>-0.038634</td>\n",
       "    </tr>\n",
       "    <tr>\n",
       "      <td>3</td>\n",
       "      <td>FoxNews</td>\n",
       "      <td>0.012519</td>\n",
       "    </tr>\n",
       "    <tr>\n",
       "      <td>4</td>\n",
       "      <td>nytimes</td>\n",
       "      <td>-0.137668</td>\n",
       "    </tr>\n",
       "  </tbody>\n",
       "</table>\n",
       "</div>"
      ],
      "text/plain": [
       "  Source Account  Average Tweet Polarity\n",
       "0            BBC                0.240805\n",
       "1            CBS                0.208701\n",
       "2            CNN               -0.038634\n",
       "3        FoxNews                0.012519\n",
       "4        nytimes               -0.137668"
      ]
     },
     "execution_count": 22,
     "metadata": {},
     "output_type": "execute_result"
    }
   ],
   "source": [
    "analysis_by_source=df.groupby(\"Source Account\")[\"Compound\"].mean()\n",
    "by_source=pd.DataFrame(analysis_by_source)\n",
    "by_source=by_source.reset_index()\n",
    "by_source=by_source.rename(columns={\"Compound\":\"Average Tweet Polarity\"})\n",
    "by_source"
   ]
  },
  {
   "cell_type": "code",
   "execution_count": 24,
   "metadata": {
    "scrolled": true
   },
   "outputs": [
    {
     "data": {
      "text/plain": [
       "Text(0.5, 1.0, 'Overall Media Sentiment Based on Twitter (05/31/2020)')"
      ]
     },
     "execution_count": 24,
     "metadata": {},
     "output_type": "execute_result"
    },
    {
     "data": {
      "image/png": "[encoded data removed]",
      "text/plain": [
       "<Figure size 576x576 with 1 Axes>"
      ]
     },
     "metadata": {},
     "output_type": "display_data"
    }
   ],
   "source": [
    "plt.figure(figsize=(8,8))\n",
    "sns.set(style=\"darkgrid\")\n",
    "sentiment_bar = sns.barplot(x=\"Source Account\", y=\"Average Tweet Polarity\", data=by_source,palette=\"hls\")\n",
    "sentiment_bar.set_title(\"Overall Media Sentiment Based on Twitter (05/31/2020)\")"
   ]
  },
  {
   "cell_type": "code",
   "execution_count": 25,
   "metadata": {},
   "outputs": [],
   "source": [
    "figure = sentiment_bar.get_figure()    \n",
    "figure.savefig(\"Images/Sentiment_Analysis_bar.png\",bbox_inches='tight')"
   ]
  },
  {
   "cell_type": "markdown",
   "metadata": {},
   "source": [
    "### Observable trends based on the data"
   ]
  },
  {
   "cell_type": "markdown",
   "metadata": {},
   "source": [
    "(1)The both the scatter plot and bar chart indicate that Fox News was mostly neutral in tweet polarity in the last 100 tweets        \n",
    "(2)The bar chart indicates that BBC and CBS on average have more positive tweet polarity in the last 100 tweets                  \n",
    "(3)The bar chart indicates that CNN and nytimes have more negative tweet polarity in the last 100 tweets\n"
   ]
  },
  {
   "cell_type": "code",
   "execution_count": null,
   "metadata": {},
   "outputs": [],
   "source": []
  }
 ],
 "metadata": {
  "kernelspec": {
   "display_name": "Python 3",
   "language": "python",
   "name": "python3"
  },
  "language_info": {
   "codemirror_mode": {
    "name": "ipython",
    "version": 3
   },
   "file_extension": ".py",
   "mimetype": "text/x-python",
   "name": "python",
   "nbconvert_exporter": "python",
   "pygments_lexer": "ipython3",
   "version": "3.7.4"
  }
 },
 "nbformat": 4,
 "nbformat_minor": 2
}
