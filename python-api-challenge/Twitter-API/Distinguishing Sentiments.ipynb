{
 "cells": [
  {
   "cell_type": "markdown",
   "metadata": {},
   "source": [
    "# Distinguishing Sentiments on Twitter"
   ]
  },
  {
   "cell_type": "code",
   "execution_count": 38,
   "metadata": {},
   "outputs": [
    {
     "data": {
      "text/plain": [
       "'C:\\\\Users\\\\clemi\\\\Desktop\\\\Clementine-GWU-HW\\\\Clementine-GWU-HW-Unit6\\\\python-api-challenge\\\\Twitter-API'"
      ]
     },
     "execution_count": 38,
     "metadata": {},
     "output_type": "execute_result"
    }
   ],
   "source": [
    "import os\n",
    "orig_working_directory=os.getcwd()\n",
    "orig_working_directory"
   ]
  },
  {
   "cell_type": "code",
   "execution_count": 39,
   "metadata": {},
   "outputs": [
    {
     "data": {
      "text/plain": [
       "'C:\\\\Users\\\\clemi\\\\Desktop\\\\Clementine-GWU-HW'"
      ]
     },
     "execution_count": 39,
     "metadata": {},
     "output_type": "execute_result"
    }
   ],
   "source": [
    "os.chdir(os.path.join('..','..','..'))\n",
    "curr_working_directory=os.getcwd()\n",
    "curr_working_directory"
   ]
  },
  {
   "cell_type": "code",
   "execution_count": 40,
   "metadata": {},
   "outputs": [],
   "source": [
    "import tweepy\n",
    "import json\n",
    "import numpy as np\n",
    "import pandas as pd\n",
    "import matplotlib.pyplot as plt\n",
    "import time"
   ]
  },
  {
   "cell_type": "code",
   "execution_count": 41,
   "metadata": {},
   "outputs": [],
   "source": [
    "from tweet_config import consumer_key,consumer_secret,access_token,access_token_secret"
   ]
  },
  {
   "cell_type": "code",
   "execution_count": 42,
   "metadata": {},
   "outputs": [],
   "source": [
    "auth=tweepy.OAuthHandler(consumer_key,consumer_secret)\n",
    "auth.set_access_token(access_token,access_token_secret)\n",
    "api=tweepy.API(auth,parser=tweepy.parsers.JSONParser())\n",
    "#api=tweepy.API(auth)"
   ]
  },
  {
   "cell_type": "code",
   "execution_count": 43,
   "metadata": {},
   "outputs": [],
   "source": [
    "from vaderSentiment.vaderSentiment import SentimentIntensityAnalyzer\n",
    "analyzer = SentimentIntensityAnalyzer()"
   ]
  },
  {
   "cell_type": "code",
   "execution_count": 44,
   "metadata": {},
   "outputs": [],
   "source": [
    "# Target Search Terms\n",
    "#BBC, CBS, CNN, Fox, and New York times\n",
    "target_terms = [\"@BBC\", \"@CBS\", \"@CNN\",\"@FoxNews\", \"@nytimes\"]"
   ]
  },
  {
   "cell_type": "code",
   "execution_count": 45,
   "metadata": {},
   "outputs": [],
   "source": [
    "# \"Real Person\" Filters\n",
    "min_tweets = 5\n",
    "max_tweets = 10000\n",
    "max_followers = 2500\n",
    "max_following = 2500"
   ]
  },
  {
   "cell_type": "code",
   "execution_count": 46,
   "metadata": {},
   "outputs": [],
   "source": [
    "# List to hold sentiment\n",
    "results_list = []"
   ]
  },
  {
   "cell_type": "code",
   "execution_count": 47,
   "metadata": {},
   "outputs": [],
   "source": [
    "# Loop through all target users\n",
    "for target in target_terms:\n",
    "    news_tweets=api.user_timeline(target,count=100)\n",
    "    tweet_num=1\n",
    "    \n",
    "    # Loop through pages of tweets OR create a cursor\n",
    "    for tweet in news_tweets:\n",
    "        results=tweet[\"text\"]\n",
    "        compound = analyzer.polarity_scores(results)[\"compound\"]\n",
    "        pos = analyzer.polarity_scores(results)[\"pos\"]\n",
    "        neg = analyzer.polarity_scores(results)[\"neg\"]\n",
    "        neu = analyzer.polarity_scores(results)[\"neu\"]\n",
    "        \n",
    "        tweets_ago=tweet_num\n",
    "        # Variables for holding sentiments\n",
    "        results_list.append({\"Source Account\":target,\n",
    "                     \"Text\":results,\n",
    "                     \"Date\":tweet[\"created_at\"],\n",
    "                     \"Compound\":compound,\n",
    "                     \"Positive\":pos,\n",
    "                     \"Neutral\":neu,\n",
    "                     \"Negative\":neg,\n",
    "                     \"Tweet Count\":tweet_num})\n",
    "        tweet_num+=1\n"
   ]
  },
  {
   "cell_type": "markdown",
   "metadata": {},
   "source": [
    "### Creating DataFrame of API response"
   ]
  },
  {
   "cell_type": "code",
   "execution_count": 48,
   "metadata": {},
   "outputs": [
    {
     "data": {
      "text/html": [
       "<div>\n",
       "<style scoped>\n",
       "    .dataframe tbody tr th:only-of-type {\n",
       "        vertical-align: middle;\n",
       "    }\n",
       "\n",
       "    .dataframe tbody tr th {\n",
       "        vertical-align: top;\n",
       "    }\n",
       "\n",
       "    .dataframe thead th {\n",
       "        text-align: right;\n",
       "    }\n",
       "</style>\n",
       "<table border=\"1\" class=\"dataframe\">\n",
       "  <thead>\n",
       "    <tr style=\"text-align: right;\">\n",
       "      <th></th>\n",
       "      <th>Source Account</th>\n",
       "      <th>Text</th>\n",
       "      <th>Date</th>\n",
       "      <th>Compound</th>\n",
       "      <th>Positive</th>\n",
       "      <th>Neutral</th>\n",
       "      <th>Negative</th>\n",
       "      <th>Tweet Count</th>\n",
       "    </tr>\n",
       "  </thead>\n",
       "  <tbody>\n",
       "    <tr>\n",
       "      <td>0</td>\n",
       "      <td>BBC</td>\n",
       "      <td>Tonight chatting to #GrahamNorton...\\n\\n✨ @kat...</td>\n",
       "      <td>Fri May 22 19:01:00 +0000 2020</td>\n",
       "      <td>0.5374</td>\n",
       "      <td>0.211</td>\n",
       "      <td>0.789</td>\n",
       "      <td>0.000</td>\n",
       "      <td>1</td>\n",
       "    </tr>\n",
       "    <tr>\n",
       "      <td>1</td>\n",
       "      <td>BBC</td>\n",
       "      <td>Piglet rescue! 😭❤️\\n\\nRoaming In The Wild is s...</td>\n",
       "      <td>Fri May 22 19:01:00 +0000 2020</td>\n",
       "      <td>0.1260</td>\n",
       "      <td>0.152</td>\n",
       "      <td>0.718</td>\n",
       "      <td>0.131</td>\n",
       "      <td>2</td>\n",
       "    </tr>\n",
       "    <tr>\n",
       "      <td>2</td>\n",
       "      <td>BBC</td>\n",
       "      <td>Here is @matthaig1's simple piece of advice fo...</td>\n",
       "      <td>Fri May 22 16:01:00 +0000 2020</td>\n",
       "      <td>0.4404</td>\n",
       "      <td>0.172</td>\n",
       "      <td>0.828</td>\n",
       "      <td>0.000</td>\n",
       "      <td>3</td>\n",
       "    </tr>\n",
       "    <tr>\n",
       "      <td>3</td>\n",
       "      <td>BBC</td>\n",
       "      <td>RT @bbcouch: Ouch favourites @MarkOneinFour an...</td>\n",
       "      <td>Fri May 22 15:58:20 +0000 2020</td>\n",
       "      <td>0.4019</td>\n",
       "      <td>0.124</td>\n",
       "      <td>0.876</td>\n",
       "      <td>0.000</td>\n",
       "      <td>4</td>\n",
       "    </tr>\n",
       "    <tr>\n",
       "      <td>4</td>\n",
       "      <td>BBC</td>\n",
       "      <td>RT @BBCR1: Here's how the #BigWeekend Headline...</td>\n",
       "      <td>Fri May 22 15:27:49 +0000 2020</td>\n",
       "      <td>0.5093</td>\n",
       "      <td>0.112</td>\n",
       "      <td>0.888</td>\n",
       "      <td>0.000</td>\n",
       "      <td>5</td>\n",
       "    </tr>\n",
       "    <tr>\n",
       "      <td>...</td>\n",
       "      <td>...</td>\n",
       "      <td>...</td>\n",
       "      <td>...</td>\n",
       "      <td>...</td>\n",
       "      <td>...</td>\n",
       "      <td>...</td>\n",
       "      <td>...</td>\n",
       "      <td>...</td>\n",
       "    </tr>\n",
       "    <tr>\n",
       "      <td>495</td>\n",
       "      <td>nytimes</td>\n",
       "      <td>Hong Kong stocks fell by more than 4% in early...</td>\n",
       "      <td>Fri May 22 05:00:06 +0000 2020</td>\n",
       "      <td>0.0000</td>\n",
       "      <td>0.000</td>\n",
       "      <td>1.000</td>\n",
       "      <td>0.000</td>\n",
       "      <td>96</td>\n",
       "    </tr>\n",
       "    <tr>\n",
       "      <td>496</td>\n",
       "      <td>nytimes</td>\n",
       "      <td>RT @stevenleemyers: \"Even as China acknowledge...</td>\n",
       "      <td>Fri May 22 04:50:04 +0000 2020</td>\n",
       "      <td>0.3400</td>\n",
       "      <td>0.098</td>\n",
       "      <td>0.902</td>\n",
       "      <td>0.000</td>\n",
       "      <td>97</td>\n",
       "    </tr>\n",
       "    <tr>\n",
       "      <td>497</td>\n",
       "      <td>nytimes</td>\n",
       "      <td>Read updates in Chinese: 新冠病毒疫情最新消息 https://t....</td>\n",
       "      <td>Fri May 22 04:24:34 +0000 2020</td>\n",
       "      <td>0.0000</td>\n",
       "      <td>0.000</td>\n",
       "      <td>1.000</td>\n",
       "      <td>0.000</td>\n",
       "      <td>98</td>\n",
       "    </tr>\n",
       "    <tr>\n",
       "      <td>498</td>\n",
       "      <td>nytimes</td>\n",
       "      <td>—President Trump, visiting a hard-hit U.S. sta...</td>\n",
       "      <td>Fri May 22 04:24:08 +0000 2020</td>\n",
       "      <td>0.0000</td>\n",
       "      <td>0.000</td>\n",
       "      <td>1.000</td>\n",
       "      <td>0.000</td>\n",
       "      <td>99</td>\n",
       "    </tr>\n",
       "    <tr>\n",
       "      <td>499</td>\n",
       "      <td>nytimes</td>\n",
       "      <td>A 32-year-old Long Island man was arrested and...</td>\n",
       "      <td>Fri May 22 04:10:04 +0000 2020</td>\n",
       "      <td>-0.9493</td>\n",
       "      <td>0.000</td>\n",
       "      <td>0.489</td>\n",
       "      <td>0.511</td>\n",
       "      <td>100</td>\n",
       "    </tr>\n",
       "  </tbody>\n",
       "</table>\n",
       "<p>500 rows × 8 columns</p>\n",
       "</div>"
      ],
      "text/plain": [
       "    Source Account                                               Text  \\\n",
       "0              BBC  Tonight chatting to #GrahamNorton...\\n\\n✨ @kat...   \n",
       "1              BBC  Piglet rescue! 😭❤️\\n\\nRoaming In The Wild is s...   \n",
       "2              BBC  Here is @matthaig1's simple piece of advice fo...   \n",
       "3              BBC  RT @bbcouch: Ouch favourites @MarkOneinFour an...   \n",
       "4              BBC  RT @BBCR1: Here's how the #BigWeekend Headline...   \n",
       "..             ...                                                ...   \n",
       "495        nytimes  Hong Kong stocks fell by more than 4% in early...   \n",
       "496        nytimes  RT @stevenleemyers: \"Even as China acknowledge...   \n",
       "497        nytimes  Read updates in Chinese: 新冠病毒疫情最新消息 https://t....   \n",
       "498        nytimes  —President Trump, visiting a hard-hit U.S. sta...   \n",
       "499        nytimes  A 32-year-old Long Island man was arrested and...   \n",
       "\n",
       "                               Date  Compound  Positive  Neutral  Negative  \\\n",
       "0    Fri May 22 19:01:00 +0000 2020    0.5374     0.211    0.789     0.000   \n",
       "1    Fri May 22 19:01:00 +0000 2020    0.1260     0.152    0.718     0.131   \n",
       "2    Fri May 22 16:01:00 +0000 2020    0.4404     0.172    0.828     0.000   \n",
       "3    Fri May 22 15:58:20 +0000 2020    0.4019     0.124    0.876     0.000   \n",
       "4    Fri May 22 15:27:49 +0000 2020    0.5093     0.112    0.888     0.000   \n",
       "..                              ...       ...       ...      ...       ...   \n",
       "495  Fri May 22 05:00:06 +0000 2020    0.0000     0.000    1.000     0.000   \n",
       "496  Fri May 22 04:50:04 +0000 2020    0.3400     0.098    0.902     0.000   \n",
       "497  Fri May 22 04:24:34 +0000 2020    0.0000     0.000    1.000     0.000   \n",
       "498  Fri May 22 04:24:08 +0000 2020    0.0000     0.000    1.000     0.000   \n",
       "499  Fri May 22 04:10:04 +0000 2020   -0.9493     0.000    0.489     0.511   \n",
       "\n",
       "     Tweet Count  \n",
       "0              1  \n",
       "1              2  \n",
       "2              3  \n",
       "3              4  \n",
       "4              5  \n",
       "..           ...  \n",
       "495           96  \n",
       "496           97  \n",
       "497           98  \n",
       "498           99  \n",
       "499          100  \n",
       "\n",
       "[500 rows x 8 columns]"
      ]
     },
     "execution_count": 48,
     "metadata": {},
     "output_type": "execute_result"
    }
   ],
   "source": [
    "df=pd.DataFrame.from_dict(results_list)\n",
    "#strip the \"@\" Source account because it does not translate well to the CSV\n",
    "df[\"Source Account\"]=df[\"Source Account\"].str.lstrip('@')\n",
    "\n",
    "#sorting the datafram by timestamp\n",
    "df.sort_values(by=['Date'])\n",
    "df"
   ]
  },
  {
   "cell_type": "markdown",
   "metadata": {},
   "source": [
    "### Exporting DataFrame to CSV"
   ]
  },
  {
   "cell_type": "code",
   "execution_count": 49,
   "metadata": {},
   "outputs": [
    {
     "data": {
      "text/plain": [
       "'C:\\\\Users\\\\clemi\\\\Desktop\\\\Clementine-GWU-HW\\\\Clementine-GWU-HW-Unit6\\\\python-api-challenge\\\\Twitter-API'"
      ]
     },
     "execution_count": 49,
     "metadata": {},
     "output_type": "execute_result"
    }
   ],
   "source": [
    "os.chdir(orig_working_directory)\n",
    "orig_working_directory"
   ]
  },
  {
   "cell_type": "code",
   "execution_count": 50,
   "metadata": {},
   "outputs": [],
   "source": [
    "df.to_csv(\"sentiment_analysis.csv\",encoding=\"utf-8\")"
   ]
  },
  {
   "cell_type": "markdown",
   "metadata": {},
   "source": [
    "### Scatter plot of sentiments of the last **100** tweets sent out by each news organization"
   ]
  },
  {
   "cell_type": "code",
   "execution_count": 51,
   "metadata": {},
   "outputs": [],
   "source": [
    "####https://cmdlinetips.com/2019/04/how-to-specify-colors-to-scatter-plots-in-python/\n",
    "import seaborn\n",
    "import seaborn as sns\n"
   ]
  },
  {
   "cell_type": "code",
   "execution_count": 52,
   "metadata": {},
   "outputs": [
    {
     "data": {
      "text/plain": [
       "Text(0, 0.5, 'Tweet Polarity')"
      ]
     },
     "execution_count": 52,
     "metadata": {},
     "output_type": "execute_result"
    },
    {
     "data": {
      "image/png": "[encoded data removed]",
      "text/plain": [
       "<Figure size 576x576 with 1 Axes>"
      ]
     },
     "metadata": {},
     "output_type": "display_data"
    }
   ],
   "source": [
    "sns.set(style=\"white\")\n",
    "plt.figure(figsize=(8,8))\n",
    "analysis=sns.scatterplot(x=\"Tweet Count\",y='Compound',hue=\"Source Account\", data=df,\n",
    "                palette=['green','orange','brown','dodgerblue','red'],legend='full');\n",
    "\n",
    "#https://stackoverflow.com/questions/53733755/how-to-move-legend-to-outside-of-a-seaborn-scatterplot/53737271\n",
    "analysis.legend(loc='center left', bbox_to_anchor=(1.0, 0.75), ncol=1)\n",
    "\n",
    "analysis.set_title(\"Sentiment Analaysis of Media Tweets (05/22/2020)\")\n",
    "analysis.set_xlabel('Tweet Ago')\n",
    "analysis.set_ylabel('Tweet Polarity')"
   ]
  },
  {
   "cell_type": "code",
   "execution_count": 53,
   "metadata": {},
   "outputs": [],
   "source": [
    "figure = analysis.get_figure()    \n",
    "figure.savefig(\"Images/Sentiment_Analysis_scatter.png\",bbox_inches='tight')"
   ]
  },
  {
   "cell_type": "markdown",
   "metadata": {},
   "source": [
    "### Bar plot visualizing the _overall_ sentiments of the last 100 tweets from each organization"
   ]
  },
  {
   "cell_type": "code",
   "execution_count": 54,
   "metadata": {},
   "outputs": [
    {
     "data": {
      "text/html": [
       "<div>\n",
       "<style scoped>\n",
       "    .dataframe tbody tr th:only-of-type {\n",
       "        vertical-align: middle;\n",
       "    }\n",
       "\n",
       "    .dataframe tbody tr th {\n",
       "        vertical-align: top;\n",
       "    }\n",
       "\n",
       "    .dataframe thead th {\n",
       "        text-align: right;\n",
       "    }\n",
       "</style>\n",
       "<table border=\"1\" class=\"dataframe\">\n",
       "  <thead>\n",
       "    <tr style=\"text-align: right;\">\n",
       "      <th></th>\n",
       "      <th>Source Account</th>\n",
       "      <th>Average Tweet Polarity</th>\n",
       "    </tr>\n",
       "  </thead>\n",
       "  <tbody>\n",
       "    <tr>\n",
       "      <td>0</td>\n",
       "      <td>BBC</td>\n",
       "      <td>0.277030</td>\n",
       "    </tr>\n",
       "    <tr>\n",
       "      <td>1</td>\n",
       "      <td>CBS</td>\n",
       "      <td>0.253189</td>\n",
       "    </tr>\n",
       "    <tr>\n",
       "      <td>2</td>\n",
       "      <td>CNN</td>\n",
       "      <td>-0.057836</td>\n",
       "    </tr>\n",
       "    <tr>\n",
       "      <td>3</td>\n",
       "      <td>FoxNews</td>\n",
       "      <td>0.005423</td>\n",
       "    </tr>\n",
       "    <tr>\n",
       "      <td>4</td>\n",
       "      <td>nytimes</td>\n",
       "      <td>-0.011597</td>\n",
       "    </tr>\n",
       "  </tbody>\n",
       "</table>\n",
       "</div>"
      ],
      "text/plain": [
       "  Source Account  Average Tweet Polarity\n",
       "0            BBC                0.277030\n",
       "1            CBS                0.253189\n",
       "2            CNN               -0.057836\n",
       "3        FoxNews                0.005423\n",
       "4        nytimes               -0.011597"
      ]
     },
     "execution_count": 54,
     "metadata": {},
     "output_type": "execute_result"
    }
   ],
   "source": [
    "analysis_by_source=df.groupby(\"Source Account\")[\"Compound\"].mean()\n",
    "by_source=pd.DataFrame(analysis_by_source)\n",
    "by_source=by_source.reset_index()\n",
    "by_source=by_source.rename(columns={\"Compound\":\"Average Tweet Polarity\"})\n",
    "by_source"
   ]
  },
  {
   "cell_type": "code",
   "execution_count": 55,
   "metadata": {},
   "outputs": [
    {
     "data": {
      "text/plain": [
       "Text(0.5, 1.0, 'Overall Media Sentiment Based on Twitter (05/22/2020)')"
      ]
     },
     "execution_count": 55,
     "metadata": {},
     "output_type": "execute_result"
    },
    {
     "data": {
      "image/png": "[encoded data removed]",
      "text/plain": [
       "<Figure size 576x576 with 1 Axes>"
      ]
     },
     "metadata": {},
     "output_type": "display_data"
    }
   ],
   "source": [
    "plt.figure(figsize=(8,8))\n",
    "sns.set(style=\"darkgrid\")\n",
    "sentiment_bar = sns.barplot(x=\"Source Account\", y=\"Average Tweet Polarity\", data=by_source,palette=\"hls\")\n",
    "sentiment_bar.set_title(\"Overall Media Sentiment Based on Twitter (05/22/2020)\")"
   ]
  },
  {
   "cell_type": "code",
   "execution_count": 56,
   "metadata": {},
   "outputs": [],
   "source": [
    "figure = sentiment_bar.get_figure()    \n",
    "figure.savefig(\"Images/Sentiment_Analysis_bar.png\",bbox_inches='tight')"
   ]
  },
  {
   "cell_type": "markdown",
   "metadata": {},
   "source": [
    "### Observable trends based on the data"
   ]
  },
  {
   "cell_type": "markdown",
   "metadata": {},
   "source": [
    "(1)The both the scatter plot and bar chart indicate that Fox News was mostly neutral in tweet polarity in the last 100 tweets        \n",
    "(2)The bar chart indicates that BBC and CBS on average have more positive tweet polarity in the last 100 tweets                  \n",
    "(3)The bar chart indicates that CNN and nytimes have more negative tweet polarity in the last 100 tweets\n"
   ]
  },
  {
   "cell_type": "code",
   "execution_count": null,
   "metadata": {},
   "outputs": [],
   "source": []
  }
 ],
 "metadata": {
  "kernelspec": {
   "display_name": "Python 3",
   "language": "python",
   "name": "python3"
  },
  "language_info": {
   "codemirror_mode": {
    "name": "ipython",
    "version": 3
   },
   "file_extension": ".py",
   "mimetype": "text/x-python",
   "name": "python",
   "nbconvert_exporter": "python",
   "pygments_lexer": "ipython3",
   "version": "3.7.4"
  }
 },
 "nbformat": 4,
 "nbformat_minor": 2
}
