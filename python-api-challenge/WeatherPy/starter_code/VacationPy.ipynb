{
 "cells": [
  {
   "cell_type": "markdown",
   "metadata": {},
   "source": [
    "# VacationPy\n",
    "----\n",
    "\n",
    "#### Note\n",
    "* Instructions have been included for each segment. You do not have to follow them exactly, but they are included to help you think through the steps."
   ]
  },
  {
   "cell_type": "code",
   "execution_count": 1,
   "metadata": {},
   "outputs": [
    {
     "data": {
      "text/plain": [
       "'C:\\\\Users\\\\clemi\\\\Desktop\\\\Clementine-GWU-HW\\\\Clementine-GWU-HW-Unit6\\\\python-api-challenge\\\\WeatherPy\\\\starter_code'"
      ]
     },
     "execution_count": 1,
     "metadata": {},
     "output_type": "execute_result"
    }
   ],
   "source": [
    "import os\n",
    "orig_working_directory=os.getcwd()\n",
    "orig_working_directory"
   ]
  },
  {
   "cell_type": "code",
   "execution_count": 2,
   "metadata": {},
   "outputs": [
    {
     "data": {
      "text/plain": [
       "'C:\\\\Users\\\\clemi\\\\Desktop\\\\Clementine-GWU-HW'"
      ]
     },
     "execution_count": 2,
     "metadata": {},
     "output_type": "execute_result"
    }
   ],
   "source": [
    "os.chdir(os.path.join('..','..','..','..'))\n",
    "curr_working_directory=os.getcwd()\n",
    "curr_working_directory"
   ]
  },
  {
   "cell_type": "code",
   "execution_count": 3,
   "metadata": {},
   "outputs": [],
   "source": [
    "# Dependencies and Setup\n",
    "import matplotlib.pyplot as plt\n",
    "import pandas as pd\n",
    "import numpy as np\n",
    "import requests\n",
    "import gmaps\n",
    "import os\n",
    "\n",
    "# Import API key\n",
    "from api_keys import g_key"
   ]
  },
  {
   "cell_type": "markdown",
   "metadata": {},
   "source": [
    "### Store Part I results into DataFrame\n",
    "* Load the csv exported in Part I to a DataFrame"
   ]
  },
  {
   "cell_type": "code",
   "execution_count": 4,
   "metadata": {},
   "outputs": [
    {
     "data": {
      "text/plain": [
       "'C:\\\\Users\\\\clemi\\\\Desktop\\\\Clementine-GWU-HW\\\\Clementine-GWU-HW-Unit6\\\\python-api-challenge\\\\WeatherPy'"
      ]
     },
     "execution_count": 4,
     "metadata": {},
     "output_type": "execute_result"
    }
   ],
   "source": [
    "os.chdir(orig_working_directory)\n",
    "os.chdir(os.path.join('..'))\n",
    "os.getcwd()"
   ]
  },
  {
   "cell_type": "code",
   "execution_count": 5,
   "metadata": {},
   "outputs": [
    {
     "data": {
      "text/html": [
       "<div>\n",
       "<style scoped>\n",
       "    .dataframe tbody tr th:only-of-type {\n",
       "        vertical-align: middle;\n",
       "    }\n",
       "\n",
       "    .dataframe tbody tr th {\n",
       "        vertical-align: top;\n",
       "    }\n",
       "\n",
       "    .dataframe thead th {\n",
       "        text-align: right;\n",
       "    }\n",
       "</style>\n",
       "<table border=\"1\" class=\"dataframe\">\n",
       "  <thead>\n",
       "    <tr style=\"text-align: right;\">\n",
       "      <th></th>\n",
       "      <th>City</th>\n",
       "      <th>Lat</th>\n",
       "      <th>Lng</th>\n",
       "      <th>Max Temp</th>\n",
       "      <th>Humidity</th>\n",
       "      <th>Cloudiness</th>\n",
       "      <th>Wind Speed</th>\n",
       "      <th>Country</th>\n",
       "    </tr>\n",
       "  </thead>\n",
       "  <tbody>\n",
       "    <tr>\n",
       "      <td>0</td>\n",
       "      <td>Carnarvon</td>\n",
       "      <td>-24.87</td>\n",
       "      <td>113.63</td>\n",
       "      <td>25.00</td>\n",
       "      <td>14</td>\n",
       "      <td>0</td>\n",
       "      <td>5.70</td>\n",
       "      <td>AU</td>\n",
       "    </tr>\n",
       "    <tr>\n",
       "      <td>1</td>\n",
       "      <td>Arraial do Cabo</td>\n",
       "      <td>-22.97</td>\n",
       "      <td>-42.03</td>\n",
       "      <td>22.50</td>\n",
       "      <td>74</td>\n",
       "      <td>30</td>\n",
       "      <td>8.16</td>\n",
       "      <td>BR</td>\n",
       "    </tr>\n",
       "    <tr>\n",
       "      <td>2</td>\n",
       "      <td>Suoyarvi</td>\n",
       "      <td>62.08</td>\n",
       "      <td>32.35</td>\n",
       "      <td>1.90</td>\n",
       "      <td>86</td>\n",
       "      <td>100</td>\n",
       "      <td>6.55</td>\n",
       "      <td>RU</td>\n",
       "    </tr>\n",
       "    <tr>\n",
       "      <td>3</td>\n",
       "      <td>Avarua</td>\n",
       "      <td>-21.21</td>\n",
       "      <td>-159.78</td>\n",
       "      <td>26.00</td>\n",
       "      <td>65</td>\n",
       "      <td>75</td>\n",
       "      <td>4.10</td>\n",
       "      <td>CK</td>\n",
       "    </tr>\n",
       "    <tr>\n",
       "      <td>4</td>\n",
       "      <td>Rikitea</td>\n",
       "      <td>-23.12</td>\n",
       "      <td>-134.97</td>\n",
       "      <td>24.52</td>\n",
       "      <td>74</td>\n",
       "      <td>100</td>\n",
       "      <td>8.40</td>\n",
       "      <td>PF</td>\n",
       "    </tr>\n",
       "    <tr>\n",
       "      <td>5</td>\n",
       "      <td>Khatanga</td>\n",
       "      <td>71.97</td>\n",
       "      <td>102.50</td>\n",
       "      <td>12.25</td>\n",
       "      <td>67</td>\n",
       "      <td>52</td>\n",
       "      <td>3.50</td>\n",
       "      <td>RU</td>\n",
       "    </tr>\n",
       "    <tr>\n",
       "      <td>6</td>\n",
       "      <td>Syracuse</td>\n",
       "      <td>37.09</td>\n",
       "      <td>15.28</td>\n",
       "      <td>17.78</td>\n",
       "      <td>77</td>\n",
       "      <td>5</td>\n",
       "      <td>2.10</td>\n",
       "      <td>IT</td>\n",
       "    </tr>\n",
       "    <tr>\n",
       "      <td>7</td>\n",
       "      <td>Manaus</td>\n",
       "      <td>-3.10</td>\n",
       "      <td>-60.02</td>\n",
       "      <td>26.00</td>\n",
       "      <td>94</td>\n",
       "      <td>0</td>\n",
       "      <td>1.00</td>\n",
       "      <td>BR</td>\n",
       "    </tr>\n",
       "    <tr>\n",
       "      <td>8</td>\n",
       "      <td>Busselton</td>\n",
       "      <td>-33.65</td>\n",
       "      <td>115.33</td>\n",
       "      <td>18.33</td>\n",
       "      <td>44</td>\n",
       "      <td>0</td>\n",
       "      <td>2.04</td>\n",
       "      <td>AU</td>\n",
       "    </tr>\n",
       "    <tr>\n",
       "      <td>9</td>\n",
       "      <td>Saint Paul Harbor</td>\n",
       "      <td>57.79</td>\n",
       "      <td>-152.41</td>\n",
       "      <td>12.00</td>\n",
       "      <td>54</td>\n",
       "      <td>90</td>\n",
       "      <td>5.70</td>\n",
       "      <td>US</td>\n",
       "    </tr>\n",
       "  </tbody>\n",
       "</table>\n",
       "</div>"
      ],
      "text/plain": [
       "                City    Lat     Lng  Max Temp  Humidity  Cloudiness  \\\n",
       "0          Carnarvon -24.87  113.63     25.00        14           0   \n",
       "1    Arraial do Cabo -22.97  -42.03     22.50        74          30   \n",
       "2           Suoyarvi  62.08   32.35      1.90        86         100   \n",
       "3             Avarua -21.21 -159.78     26.00        65          75   \n",
       "4            Rikitea -23.12 -134.97     24.52        74         100   \n",
       "5           Khatanga  71.97  102.50     12.25        67          52   \n",
       "6           Syracuse  37.09   15.28     17.78        77           5   \n",
       "7             Manaus  -3.10  -60.02     26.00        94           0   \n",
       "8          Busselton -33.65  115.33     18.33        44           0   \n",
       "9  Saint Paul Harbor  57.79 -152.41     12.00        54          90   \n",
       "\n",
       "   Wind Speed Country  \n",
       "0        5.70      AU  \n",
       "1        8.16      BR  \n",
       "2        6.55      RU  \n",
       "3        4.10      CK  \n",
       "4        8.40      PF  \n",
       "5        3.50      RU  \n",
       "6        2.10      IT  \n",
       "7        1.00      BR  \n",
       "8        2.04      AU  \n",
       "9        5.70      US  "
      ]
     },
     "execution_count": 5,
     "metadata": {},
     "output_type": "execute_result"
    }
   ],
   "source": [
    "import csv\n",
    "file=\"output_data/City_Data.csv\"\n",
    "weather_data=pd.read_csv(file)\n",
    "weather=weather_data.drop(['Unnamed: 0','Date'],axis=1)\n",
    "weather.head(10)"
   ]
  },
  {
   "cell_type": "markdown",
   "metadata": {},
   "source": [
    "### Humidity Heatmap\n",
    "* Configure gmaps.\n",
    "* Use the Lat and Lng as locations and Humidity as the weight.\n",
    "* Add Heatmap layer to map."
   ]
  },
  {
   "cell_type": "code",
   "execution_count": 6,
   "metadata": {},
   "outputs": [],
   "source": [
    "import gmaps\n",
    "import pandas as pd"
   ]
  },
  {
   "cell_type": "code",
   "execution_count": 7,
   "metadata": {},
   "outputs": [],
   "source": [
    "#weather_data.dropna(inplace = True) \n",
    "\n",
    "data=weather[['Lat','Lng','City','Humidity']]\n",
    "\n",
    "lat_lon_grp=data.groupby(['Lat','Lng','City']).count()\n",
    "\n",
    "marker_data=lat_lon_grp.reset_index()\n",
    "\n",
    "locations = marker_data[['Lat','Lng']]\n",
    "locations\n",
    "locationlist = locations.values.tolist()\n",
    "#len(locationlist)\n",
    "\n",
    "labels = marker_data['City'].values.tolist()\n"
   ]
  },
  {
   "cell_type": "code",
   "execution_count": 8,
   "metadata": {},
   "outputs": [
    {
     "data": {
      "text/plain": [
       "100"
      ]
     },
     "execution_count": 8,
     "metadata": {},
     "output_type": "execute_result"
    }
   ],
   "source": [
    "max_humidity=max(data['Humidity'])\n",
    "max_humidity"
   ]
  },
  {
   "cell_type": "code",
   "execution_count": 9,
   "metadata": {},
   "outputs": [
    {
     "name": "stderr",
     "output_type": "stream",
     "text": [
      "Enabling notebook extension jupyter-gmaps/extension...\n",
      "      - Validating: ok\n"
     ]
    }
   ],
   "source": [
    "!jupyter nbextension enable --py gmaps"
   ]
  },
  {
   "cell_type": "code",
   "execution_count": 10,
   "metadata": {},
   "outputs": [
    {
     "data": {
      "application/vnd.jupyter.widget-view+json": {
       "model_id": "180fedae30e348a886fe4b1edd6050e3",
       "version_major": 2,
       "version_minor": 0
      },
      "text/plain": [
       "Figure(layout=FigureLayout(height='420px'))"
      ]
     },
     "metadata": {},
     "output_type": "display_data"
    }
   ],
   "source": [
    "#documentatin -- https://jupyter-gmaps.readthedocs.io/en/latest/api.html\n",
    "#import widget that allows map to be exported to to html\n",
    "\n",
    "locations = marker_data[['Lat', 'Lng']]\n",
    "weights=marker_data['Humidity']\n",
    "\n",
    "# Plot Heatmap\n",
    "# map types ['ROADMAP', 'HYBRID', 'TERRAIN', 'SATELLITE']\n",
    "fig = gmaps.figure(map_type='ROADMAP',center=(5.0, -5.0), zoom_level=2) \n",
    "\n",
    "# Create heat layer\n",
    "heat_layer = gmaps.heatmap_layer(locations, weights=weights,max_intensity=5,point_radius = 15)\n",
    "\n",
    "# Add layer\n",
    "fig.add_layer(heat_layer)\n",
    "# Display figure\n",
    "fig"
   ]
  },
  {
   "cell_type": "code",
   "execution_count": null,
   "metadata": {},
   "outputs": [],
   "source": []
  },
  {
   "cell_type": "markdown",
   "metadata": {},
   "source": [
    "### Create new DataFrame fitting weather criteria\n",
    "* Narrow down the cities to fit weather conditions.\n",
    "* Drop any rows will null values."
   ]
  },
  {
   "cell_type": "code",
   "execution_count": 11,
   "metadata": {},
   "outputs": [
    {
     "data": {
      "text/html": [
       "<div>\n",
       "<style scoped>\n",
       "    .dataframe tbody tr th:only-of-type {\n",
       "        vertical-align: middle;\n",
       "    }\n",
       "\n",
       "    .dataframe tbody tr th {\n",
       "        vertical-align: top;\n",
       "    }\n",
       "\n",
       "    .dataframe thead th {\n",
       "        text-align: right;\n",
       "    }\n",
       "</style>\n",
       "<table border=\"1\" class=\"dataframe\">\n",
       "  <thead>\n",
       "    <tr style=\"text-align: right;\">\n",
       "      <th></th>\n",
       "      <th>City</th>\n",
       "      <th>Lat</th>\n",
       "      <th>Lng</th>\n",
       "      <th>Max Temp</th>\n",
       "      <th>Humidity</th>\n",
       "      <th>Cloudiness</th>\n",
       "      <th>Wind Speed</th>\n",
       "      <th>Country</th>\n",
       "    </tr>\n",
       "  </thead>\n",
       "  <tbody>\n",
       "    <tr>\n",
       "      <td>87</td>\n",
       "      <td>George Town</td>\n",
       "      <td>5.41</td>\n",
       "      <td>100.34</td>\n",
       "      <td>32.00</td>\n",
       "      <td>70</td>\n",
       "      <td>20</td>\n",
       "      <td>2.10</td>\n",
       "      <td>MY</td>\n",
       "    </tr>\n",
       "    <tr>\n",
       "      <td>134</td>\n",
       "      <td>Kantang</td>\n",
       "      <td>7.41</td>\n",
       "      <td>99.52</td>\n",
       "      <td>32.00</td>\n",
       "      <td>70</td>\n",
       "      <td>20</td>\n",
       "      <td>3.10</td>\n",
       "      <td>TH</td>\n",
       "    </tr>\n",
       "    <tr>\n",
       "      <td>222</td>\n",
       "      <td>Qeshm</td>\n",
       "      <td>26.96</td>\n",
       "      <td>56.27</td>\n",
       "      <td>30.00</td>\n",
       "      <td>51</td>\n",
       "      <td>0</td>\n",
       "      <td>2.10</td>\n",
       "      <td>IR</td>\n",
       "    </tr>\n",
       "    <tr>\n",
       "      <td>237</td>\n",
       "      <td>Berbera</td>\n",
       "      <td>10.44</td>\n",
       "      <td>45.01</td>\n",
       "      <td>32.02</td>\n",
       "      <td>55</td>\n",
       "      <td>0</td>\n",
       "      <td>3.39</td>\n",
       "      <td>SO</td>\n",
       "    </tr>\n",
       "    <tr>\n",
       "      <td>307</td>\n",
       "      <td>Moussoro</td>\n",
       "      <td>13.64</td>\n",
       "      <td>16.49</td>\n",
       "      <td>30.28</td>\n",
       "      <td>30</td>\n",
       "      <td>4</td>\n",
       "      <td>2.59</td>\n",
       "      <td>TD</td>\n",
       "    </tr>\n",
       "    <tr>\n",
       "      <td>389</td>\n",
       "      <td>Doha</td>\n",
       "      <td>25.29</td>\n",
       "      <td>51.53</td>\n",
       "      <td>32.78</td>\n",
       "      <td>74</td>\n",
       "      <td>0</td>\n",
       "      <td>2.10</td>\n",
       "      <td>QA</td>\n",
       "    </tr>\n",
       "    <tr>\n",
       "      <td>444</td>\n",
       "      <td>Adrar</td>\n",
       "      <td>20.50</td>\n",
       "      <td>-10.07</td>\n",
       "      <td>30.13</td>\n",
       "      <td>18</td>\n",
       "      <td>18</td>\n",
       "      <td>2.45</td>\n",
       "      <td>MR</td>\n",
       "    </tr>\n",
       "    <tr>\n",
       "      <td>522</td>\n",
       "      <td>Sawākin</td>\n",
       "      <td>19.11</td>\n",
       "      <td>37.33</td>\n",
       "      <td>30.46</td>\n",
       "      <td>53</td>\n",
       "      <td>2</td>\n",
       "      <td>2.51</td>\n",
       "      <td>SD</td>\n",
       "    </tr>\n",
       "  </tbody>\n",
       "</table>\n",
       "</div>"
      ],
      "text/plain": [
       "            City    Lat     Lng  Max Temp  Humidity  Cloudiness  Wind Speed  \\\n",
       "87   George Town   5.41  100.34     32.00        70          20        2.10   \n",
       "134      Kantang   7.41   99.52     32.00        70          20        3.10   \n",
       "222        Qeshm  26.96   56.27     30.00        51           0        2.10   \n",
       "237      Berbera  10.44   45.01     32.02        55           0        3.39   \n",
       "307     Moussoro  13.64   16.49     30.28        30           4        2.59   \n",
       "389         Doha  25.29   51.53     32.78        74           0        2.10   \n",
       "444        Adrar  20.50  -10.07     30.13        18          18        2.45   \n",
       "522      Sawākin  19.11   37.33     30.46        53           2        2.51   \n",
       "\n",
       "    Country  \n",
       "87       MY  \n",
       "134      TH  \n",
       "222      IR  \n",
       "237      SO  \n",
       "307      TD  \n",
       "389      QA  \n",
       "444      MR  \n",
       "522      SD  "
      ]
     },
     "execution_count": 11,
     "metadata": {},
     "output_type": "execute_result"
    }
   ],
   "source": [
    "#selecting ideal conditions for vacation spot\n",
    "#A max temperature lower than 35 degrees Celsius but higher than 30.\n",
    "#Wind speed less than 10 mph.\n",
    "#Zero cloudiness.\n",
    "ideal_weather=weather.loc[(weather[\"Max Temp\"]>=30) & (weather[\"Max Temp\"]<=33) & \\\n",
    "                          (weather[\"Wind Speed\"]<=4) & (weather[\"Cloudiness\"]<=30)  ,:]\n",
    "ideal_weather.dropna()\n",
    "ideal_weather"
   ]
  },
  {
   "cell_type": "markdown",
   "metadata": {},
   "source": [
    "### Hotel Map\n",
    "* Store into variable named `hotel_df`.\n",
    "* Add a \"Hotel Name\" column to the DataFrame.\n",
    "* Set parameters to search for hotels with 5000 meters.\n",
    "* Hit the Google Places API for each city's coordinates.\n",
    "* Store the first Hotel result into the DataFrame.\n",
    "* Plot markers on top of the heatmap."
   ]
  },
  {
   "cell_type": "code",
   "execution_count": 12,
   "metadata": {},
   "outputs": [
    {
     "name": "stderr",
     "output_type": "stream",
     "text": [
      "C:\\Users\\clemi\\Anaconda3\\lib\\site-packages\\ipykernel_launcher.py:2: SettingWithCopyWarning: \n",
      "A value is trying to be set on a copy of a slice from a DataFrame.\n",
      "Try using .loc[row_indexer,col_indexer] = value instead\n",
      "\n",
      "See the caveats in the documentation: http://pandas.pydata.org/pandas-docs/stable/user_guide/indexing.html#returning-a-view-versus-a-copy\n",
      "  \n"
     ]
    },
    {
     "data": {
      "text/html": [
       "<div>\n",
       "<style scoped>\n",
       "    .dataframe tbody tr th:only-of-type {\n",
       "        vertical-align: middle;\n",
       "    }\n",
       "\n",
       "    .dataframe tbody tr th {\n",
       "        vertical-align: top;\n",
       "    }\n",
       "\n",
       "    .dataframe thead th {\n",
       "        text-align: right;\n",
       "    }\n",
       "</style>\n",
       "<table border=\"1\" class=\"dataframe\">\n",
       "  <thead>\n",
       "    <tr style=\"text-align: right;\">\n",
       "      <th></th>\n",
       "      <th>City</th>\n",
       "      <th>Lat</th>\n",
       "      <th>Lng</th>\n",
       "      <th>Max Temp</th>\n",
       "      <th>Humidity</th>\n",
       "      <th>Cloudiness</th>\n",
       "      <th>Wind Speed</th>\n",
       "      <th>Country</th>\n",
       "      <th>Hotel Name</th>\n",
       "    </tr>\n",
       "  </thead>\n",
       "  <tbody>\n",
       "    <tr>\n",
       "      <td>87</td>\n",
       "      <td>George Town</td>\n",
       "      <td>5.41</td>\n",
       "      <td>100.34</td>\n",
       "      <td>32.00</td>\n",
       "      <td>70</td>\n",
       "      <td>20</td>\n",
       "      <td>2.10</td>\n",
       "      <td>MY</td>\n",
       "      <td></td>\n",
       "    </tr>\n",
       "    <tr>\n",
       "      <td>134</td>\n",
       "      <td>Kantang</td>\n",
       "      <td>7.41</td>\n",
       "      <td>99.52</td>\n",
       "      <td>32.00</td>\n",
       "      <td>70</td>\n",
       "      <td>20</td>\n",
       "      <td>3.10</td>\n",
       "      <td>TH</td>\n",
       "      <td></td>\n",
       "    </tr>\n",
       "    <tr>\n",
       "      <td>222</td>\n",
       "      <td>Qeshm</td>\n",
       "      <td>26.96</td>\n",
       "      <td>56.27</td>\n",
       "      <td>30.00</td>\n",
       "      <td>51</td>\n",
       "      <td>0</td>\n",
       "      <td>2.10</td>\n",
       "      <td>IR</td>\n",
       "      <td></td>\n",
       "    </tr>\n",
       "    <tr>\n",
       "      <td>237</td>\n",
       "      <td>Berbera</td>\n",
       "      <td>10.44</td>\n",
       "      <td>45.01</td>\n",
       "      <td>32.02</td>\n",
       "      <td>55</td>\n",
       "      <td>0</td>\n",
       "      <td>3.39</td>\n",
       "      <td>SO</td>\n",
       "      <td></td>\n",
       "    </tr>\n",
       "    <tr>\n",
       "      <td>307</td>\n",
       "      <td>Moussoro</td>\n",
       "      <td>13.64</td>\n",
       "      <td>16.49</td>\n",
       "      <td>30.28</td>\n",
       "      <td>30</td>\n",
       "      <td>4</td>\n",
       "      <td>2.59</td>\n",
       "      <td>TD</td>\n",
       "      <td></td>\n",
       "    </tr>\n",
       "    <tr>\n",
       "      <td>389</td>\n",
       "      <td>Doha</td>\n",
       "      <td>25.29</td>\n",
       "      <td>51.53</td>\n",
       "      <td>32.78</td>\n",
       "      <td>74</td>\n",
       "      <td>0</td>\n",
       "      <td>2.10</td>\n",
       "      <td>QA</td>\n",
       "      <td></td>\n",
       "    </tr>\n",
       "    <tr>\n",
       "      <td>444</td>\n",
       "      <td>Adrar</td>\n",
       "      <td>20.50</td>\n",
       "      <td>-10.07</td>\n",
       "      <td>30.13</td>\n",
       "      <td>18</td>\n",
       "      <td>18</td>\n",
       "      <td>2.45</td>\n",
       "      <td>MR</td>\n",
       "      <td></td>\n",
       "    </tr>\n",
       "    <tr>\n",
       "      <td>522</td>\n",
       "      <td>Sawākin</td>\n",
       "      <td>19.11</td>\n",
       "      <td>37.33</td>\n",
       "      <td>30.46</td>\n",
       "      <td>53</td>\n",
       "      <td>2</td>\n",
       "      <td>2.51</td>\n",
       "      <td>SD</td>\n",
       "      <td></td>\n",
       "    </tr>\n",
       "  </tbody>\n",
       "</table>\n",
       "</div>"
      ],
      "text/plain": [
       "            City    Lat     Lng  Max Temp  Humidity  Cloudiness  Wind Speed  \\\n",
       "87   George Town   5.41  100.34     32.00        70          20        2.10   \n",
       "134      Kantang   7.41   99.52     32.00        70          20        3.10   \n",
       "222        Qeshm  26.96   56.27     30.00        51           0        2.10   \n",
       "237      Berbera  10.44   45.01     32.02        55           0        3.39   \n",
       "307     Moussoro  13.64   16.49     30.28        30           4        2.59   \n",
       "389         Doha  25.29   51.53     32.78        74           0        2.10   \n",
       "444        Adrar  20.50  -10.07     30.13        18          18        2.45   \n",
       "522      Sawākin  19.11   37.33     30.46        53           2        2.51   \n",
       "\n",
       "    Country Hotel Name  \n",
       "87       MY             \n",
       "134      TH             \n",
       "222      IR             \n",
       "237      SO             \n",
       "307      TD             \n",
       "389      QA             \n",
       "444      MR             \n",
       "522      SD             "
      ]
     },
     "execution_count": 12,
     "metadata": {},
     "output_type": "execute_result"
    }
   ],
   "source": [
    "hotel_df=ideal_weather\n",
    "hotel_df[\"Hotel Name\"]=\"\"\n",
    "hotel_df"
   ]
  },
  {
   "cell_type": "code",
   "execution_count": 13,
   "metadata": {},
   "outputs": [
    {
     "data": {
      "text/plain": [
       "'C:\\\\Users\\\\clemi\\\\Desktop\\\\Clementine-GWU-HW'"
      ]
     },
     "execution_count": 13,
     "metadata": {},
     "output_type": "execute_result"
    }
   ],
   "source": [
    "#finding keys\n",
    "curr_working_directory"
   ]
  },
  {
   "cell_type": "code",
   "execution_count": 20,
   "metadata": {},
   "outputs": [],
   "source": [
    "# Dependencies\n",
    "import requests\n",
    "import json\n",
    "\n",
    "# Google developer API key\n",
    "from api_keys import g_key"
   ]
  },
  {
   "cell_type": "code",
   "execution_count": 24,
   "metadata": {},
   "outputs": [
    {
     "data": {
      "text/plain": [
       "{'error_message': 'The provided API key is invalid.',\n",
       " 'html_attributions': [],\n",
       " 'results': [],\n",
       " 'status': 'REQUEST_DENIED'}"
      ]
     },
     "execution_count": 24,
     "metadata": {},
     "output_type": "execute_result"
    }
   ],
   "source": [
    "location='Doha'\n",
    "#google API end points\n",
    "base_url=\"https://maps.googleapis.com/maps/api/place/nearbysearch/json\"\n",
    "params={'address':location,\n",
    "        'key':g_key}\n",
    "response=requests.get(base_url,params=params)\n",
    "response.json()"
   ]
  },
  {
   "cell_type": "code",
   "execution_count": 16,
   "metadata": {},
   "outputs": [],
   "source": [
    "# NOTE: Do not change any of the code in this cell\n",
    "\n",
    "# Using the template add the hotel marks to the heatmap\n",
    "info_box_template = \"\"\"\n",
    "<dl>\n",
    "<dt>Name</dt><dd>{Hotel Name}</dd>\n",
    "<dt>City</dt><dd>{City}</dd>\n",
    "<dt>Country</dt><dd>{Country}</dd>\n",
    "</dl>\n",
    "\"\"\"\n",
    "# Store the DataFrame Row\n",
    "# NOTE: be sure to update with your DataFrame name\n",
    "hotel_info = [info_box_template.format(**row) for index, row in hotel_df.iterrows()]\n",
    "locations = hotel_df[[\"Lat\", \"Lng\"]]\n",
    "\n",
    "\n",
    "\n",
    "marker_data=lat_lon_grp.reset_index()"
   ]
  },
  {
   "cell_type": "code",
   "execution_count": 17,
   "metadata": {},
   "outputs": [],
   "source": [
    "# Add marker layer ontop of heat map\n",
    "\n",
    "\n",
    "# Display figure\n"
   ]
  },
  {
   "cell_type": "code",
   "execution_count": null,
   "metadata": {},
   "outputs": [],
   "source": []
  }
 ],
 "metadata": {
  "kernelspec": {
   "display_name": "Python 3",
   "language": "python",
   "name": "python3"
  },
  "language_info": {
   "codemirror_mode": {
    "name": "ipython",
    "version": 3
   },
   "file_extension": ".py",
   "mimetype": "text/x-python",
   "name": "python",
   "nbconvert_exporter": "python",
   "pygments_lexer": "ipython3",
   "version": "3.7.4"
  },
  "latex_envs": {
   "LaTeX_envs_menu_present": true,
   "autoclose": false,
   "autocomplete": true,
   "bibliofile": "biblio.bib",
   "cite_by": "apalike",
   "current_citInitial": 1,
   "eqLabelWithNumbers": true,
   "eqNumInitial": 1,
   "hotkeys": {
    "equation": "Ctrl-E",
    "itemize": "Ctrl-I"
   },
   "labels_anchors": false,
   "latex_user_defs": false,
   "report_style_numbering": false,
   "user_envs_cfg": false
  }
 },
 "nbformat": 4,
 "nbformat_minor": 2
}
