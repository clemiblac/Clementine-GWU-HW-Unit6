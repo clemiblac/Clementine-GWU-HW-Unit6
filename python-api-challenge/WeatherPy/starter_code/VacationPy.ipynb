{
 "cells": [
  {
   "cell_type": "markdown",
   "metadata": {},
   "source": [
    "# VacationPy\n",
    "----\n",
    "\n",
    "#### Note\n",
    "* Instructions have been included for each segment. You do not have to follow them exactly, but they are included to help you think through the steps."
   ]
  },
  {
   "cell_type": "code",
   "execution_count": 1,
   "metadata": {},
   "outputs": [
    {
     "data": {
      "text/plain": [
       "'C:\\\\Users\\\\clemi\\\\Desktop\\\\Clementine-GWU-HW\\\\Clementine-GWU-HW-Unit6\\\\python-api-challenge\\\\WeatherPy\\\\starter_code'"
      ]
     },
     "execution_count": 1,
     "metadata": {},
     "output_type": "execute_result"
    }
   ],
   "source": [
    "import os\n",
    "orig_working_directory=os.getcwd()\n",
    "orig_working_directory"
   ]
  },
  {
   "cell_type": "code",
   "execution_count": 2,
   "metadata": {},
   "outputs": [
    {
     "data": {
      "text/plain": [
       "'C:\\\\Users\\\\clemi\\\\Desktop\\\\Clementine-GWU-HW'"
      ]
     },
     "execution_count": 2,
     "metadata": {},
     "output_type": "execute_result"
    }
   ],
   "source": [
    "os.chdir(os.path.join('..','..','..','..'))\n",
    "curr_working_directory=os.getcwd()\n",
    "curr_working_directory"
   ]
  },
  {
   "cell_type": "code",
   "execution_count": 3,
   "metadata": {},
   "outputs": [],
   "source": [
    "# Dependencies and Setup\n",
    "import matplotlib.pyplot as plt\n",
    "import pandas as pd\n",
    "import numpy as np\n",
    "import requests\n",
    "import gmaps\n",
    "import os\n",
    "\n",
    "# Import API key\n",
    "from api_keys import g_key"
   ]
  },
  {
   "cell_type": "markdown",
   "metadata": {},
   "source": [
    "### Store Part I results into DataFrame\n",
    "* Load the csv exported in Part I to a DataFrame"
   ]
  },
  {
   "cell_type": "code",
   "execution_count": 6,
   "metadata": {},
   "outputs": [
    {
     "data": {
      "text/plain": [
       "'C:\\\\Users\\\\clemi\\\\Desktop\\\\Clementine-GWU-HW\\\\Clementine-GWU-HW-Unit6\\\\python-api-challenge\\\\WeatherPy'"
      ]
     },
     "execution_count": 6,
     "metadata": {},
     "output_type": "execute_result"
    }
   ],
   "source": [
    "os.chdir(orig_working_directory)\n",
    "os.chdir(os.path.join('..'))\n",
    "os.getcwd()"
   ]
  },
  {
   "cell_type": "code",
   "execution_count": 16,
   "metadata": {},
   "outputs": [
    {
     "data": {
      "text/html": [
       "<div>\n",
       "<style scoped>\n",
       "    .dataframe tbody tr th:only-of-type {\n",
       "        vertical-align: middle;\n",
       "    }\n",
       "\n",
       "    .dataframe tbody tr th {\n",
       "        vertical-align: top;\n",
       "    }\n",
       "\n",
       "    .dataframe thead th {\n",
       "        text-align: right;\n",
       "    }\n",
       "</style>\n",
       "<table border=\"1\" class=\"dataframe\">\n",
       "  <thead>\n",
       "    <tr style=\"text-align: right;\">\n",
       "      <th></th>\n",
       "      <th>City</th>\n",
       "      <th>Lat</th>\n",
       "      <th>Lng</th>\n",
       "      <th>Max Temp</th>\n",
       "      <th>Humidity</th>\n",
       "      <th>Cloudiness</th>\n",
       "      <th>Wind Speed</th>\n",
       "      <th>Country</th>\n",
       "      <th>Date</th>\n",
       "    </tr>\n",
       "  </thead>\n",
       "  <tbody>\n",
       "    <tr>\n",
       "      <td>0</td>\n",
       "      <td>Carnarvon</td>\n",
       "      <td>-24.87</td>\n",
       "      <td>113.63</td>\n",
       "      <td>25.00</td>\n",
       "      <td>14</td>\n",
       "      <td>0</td>\n",
       "      <td>5.70</td>\n",
       "      <td>AU</td>\n",
       "      <td>1590031586</td>\n",
       "    </tr>\n",
       "    <tr>\n",
       "      <td>1</td>\n",
       "      <td>Arraial do Cabo</td>\n",
       "      <td>-22.97</td>\n",
       "      <td>-42.03</td>\n",
       "      <td>22.50</td>\n",
       "      <td>74</td>\n",
       "      <td>30</td>\n",
       "      <td>8.16</td>\n",
       "      <td>BR</td>\n",
       "      <td>1590031586</td>\n",
       "    </tr>\n",
       "    <tr>\n",
       "      <td>2</td>\n",
       "      <td>Suoyarvi</td>\n",
       "      <td>62.08</td>\n",
       "      <td>32.35</td>\n",
       "      <td>1.90</td>\n",
       "      <td>86</td>\n",
       "      <td>100</td>\n",
       "      <td>6.55</td>\n",
       "      <td>RU</td>\n",
       "      <td>1590031586</td>\n",
       "    </tr>\n",
       "    <tr>\n",
       "      <td>3</td>\n",
       "      <td>Avarua</td>\n",
       "      <td>-21.21</td>\n",
       "      <td>-159.78</td>\n",
       "      <td>26.00</td>\n",
       "      <td>65</td>\n",
       "      <td>75</td>\n",
       "      <td>4.10</td>\n",
       "      <td>CK</td>\n",
       "      <td>1590031586</td>\n",
       "    </tr>\n",
       "    <tr>\n",
       "      <td>4</td>\n",
       "      <td>Rikitea</td>\n",
       "      <td>-23.12</td>\n",
       "      <td>-134.97</td>\n",
       "      <td>24.52</td>\n",
       "      <td>74</td>\n",
       "      <td>100</td>\n",
       "      <td>8.40</td>\n",
       "      <td>PF</td>\n",
       "      <td>1590031586</td>\n",
       "    </tr>\n",
       "    <tr>\n",
       "      <td>5</td>\n",
       "      <td>Khatanga</td>\n",
       "      <td>71.97</td>\n",
       "      <td>102.50</td>\n",
       "      <td>12.25</td>\n",
       "      <td>67</td>\n",
       "      <td>52</td>\n",
       "      <td>3.50</td>\n",
       "      <td>RU</td>\n",
       "      <td>1590031586</td>\n",
       "    </tr>\n",
       "    <tr>\n",
       "      <td>6</td>\n",
       "      <td>Syracuse</td>\n",
       "      <td>37.09</td>\n",
       "      <td>15.28</td>\n",
       "      <td>17.78</td>\n",
       "      <td>77</td>\n",
       "      <td>5</td>\n",
       "      <td>2.10</td>\n",
       "      <td>IT</td>\n",
       "      <td>1590031298</td>\n",
       "    </tr>\n",
       "    <tr>\n",
       "      <td>7</td>\n",
       "      <td>Manaus</td>\n",
       "      <td>-3.10</td>\n",
       "      <td>-60.02</td>\n",
       "      <td>26.00</td>\n",
       "      <td>94</td>\n",
       "      <td>0</td>\n",
       "      <td>1.00</td>\n",
       "      <td>BR</td>\n",
       "      <td>1590031422</td>\n",
       "    </tr>\n",
       "    <tr>\n",
       "      <td>8</td>\n",
       "      <td>Busselton</td>\n",
       "      <td>-33.65</td>\n",
       "      <td>115.33</td>\n",
       "      <td>18.33</td>\n",
       "      <td>44</td>\n",
       "      <td>0</td>\n",
       "      <td>2.04</td>\n",
       "      <td>AU</td>\n",
       "      <td>1590031586</td>\n",
       "    </tr>\n",
       "    <tr>\n",
       "      <td>9</td>\n",
       "      <td>Saint Paul Harbor</td>\n",
       "      <td>57.79</td>\n",
       "      <td>-152.41</td>\n",
       "      <td>12.00</td>\n",
       "      <td>54</td>\n",
       "      <td>90</td>\n",
       "      <td>5.70</td>\n",
       "      <td>US</td>\n",
       "      <td>1590031587</td>\n",
       "    </tr>\n",
       "  </tbody>\n",
       "</table>\n",
       "</div>"
      ],
      "text/plain": [
       "                City    Lat     Lng  Max Temp  Humidity  Cloudiness  \\\n",
       "0          Carnarvon -24.87  113.63     25.00        14           0   \n",
       "1    Arraial do Cabo -22.97  -42.03     22.50        74          30   \n",
       "2           Suoyarvi  62.08   32.35      1.90        86         100   \n",
       "3             Avarua -21.21 -159.78     26.00        65          75   \n",
       "4            Rikitea -23.12 -134.97     24.52        74         100   \n",
       "5           Khatanga  71.97  102.50     12.25        67          52   \n",
       "6           Syracuse  37.09   15.28     17.78        77           5   \n",
       "7             Manaus  -3.10  -60.02     26.00        94           0   \n",
       "8          Busselton -33.65  115.33     18.33        44           0   \n",
       "9  Saint Paul Harbor  57.79 -152.41     12.00        54          90   \n",
       "\n",
       "   Wind Speed Country        Date  \n",
       "0        5.70      AU  1590031586  \n",
       "1        8.16      BR  1590031586  \n",
       "2        6.55      RU  1590031586  \n",
       "3        4.10      CK  1590031586  \n",
       "4        8.40      PF  1590031586  \n",
       "5        3.50      RU  1590031586  \n",
       "6        2.10      IT  1590031298  \n",
       "7        1.00      BR  1590031422  \n",
       "8        2.04      AU  1590031586  \n",
       "9        5.70      US  1590031587  "
      ]
     },
     "execution_count": 16,
     "metadata": {},
     "output_type": "execute_result"
    }
   ],
   "source": [
    "import csv\n",
    "file=\"output_data/City_Data.csv\"\n",
    "weather_data=pd.read_csv(file)\n",
    "weather=weather_data.drop(['Unnamed: 0'],axis=1)\n",
    "weather.head(10)"
   ]
  },
  {
   "cell_type": "markdown",
   "metadata": {},
   "source": [
    "### Humidity Heatmap\n",
    "* Configure gmaps.\n",
    "* Use the Lat and Lng as locations and Humidity as the weight.\n",
    "* Add Heatmap layer to map."
   ]
  },
  {
   "cell_type": "code",
   "execution_count": 26,
   "metadata": {},
   "outputs": [],
   "source": [
    "import gmaps\n",
    "import pandas as pd"
   ]
  },
  {
   "cell_type": "code",
   "execution_count": 79,
   "metadata": {},
   "outputs": [],
   "source": [
    "#weather_data.dropna(inplace = True) \n",
    "\n",
    "data=weather[['Lat','Lng','City','Humidity']]\n",
    "\n",
    "lat_lon_grp=data.groupby(['Lat','Lng','City']).count()\n",
    "\n",
    "marker_data=lat_lon_grp.reset_index()\n",
    "\n",
    "locations = marker_data[['Lat','Lng']]\n",
    "locations\n",
    "locationlist = locations.values.tolist()\n",
    "#len(locationlist)\n",
    "\n",
    "labels = marker_data['City'].values.tolist()\n"
   ]
  },
  {
   "cell_type": "code",
   "execution_count": 80,
   "metadata": {},
   "outputs": [
    {
     "data": {
      "text/plain": [
       "100"
      ]
     },
     "execution_count": 80,
     "metadata": {},
     "output_type": "execute_result"
    }
   ],
   "source": [
    "max_humidity=max(data['Humidity'])\n",
    "max_humidity"
   ]
  },
  {
   "cell_type": "code",
   "execution_count": 81,
   "metadata": {},
   "outputs": [
    {
     "name": "stderr",
     "output_type": "stream",
     "text": [
      "Enabling notebook extension jupyter-gmaps/extension...\n",
      "      - Validating: ok\n"
     ]
    }
   ],
   "source": [
    "!jupyter nbextension enable --py gmaps"
   ]
  },
  {
   "cell_type": "code",
   "execution_count": 92,
   "metadata": {},
   "outputs": [
    {
     "data": {
      "application/vnd.jupyter.widget-view+json": {
       "model_id": "7016cbc4de2e4bcd9aed7360deefde5c",
       "version_major": 2,
       "version_minor": 0
      },
      "text/plain": [
       "Figure(layout=FigureLayout(height='420px'))"
      ]
     },
     "metadata": {},
     "output_type": "display_data"
    }
   ],
   "source": [
    "#documentatin -- https://jupyter-gmaps.readthedocs.io/en/latest/api.html\n",
    "#import widget that allows map to be exported to to html\n",
    "\n",
    "locations = marker_data[['Lat', 'Lng']]\n",
    "weights=marker_data['Humidity']\n",
    "\n",
    "# Plot Heatmap\n",
    "# map types ['ROADMAP', 'HYBRID', 'TERRAIN', 'SATELLITE']\n",
    "fig = gmaps.figure(map_type='ROADMAP',center=(5.0, -5.0), zoom_level=2) \n",
    "\n",
    "# Create heat layer\n",
    "heat_layer = gmaps.heatmap_layer(locations, weights=weights,max_intensity=5,point_radius = 15)\n",
    "\n",
    "# Add layer\n",
    "fig.add_layer(heat_layer)\n",
    "# Display figure\n",
    "fig"
   ]
  },
  {
   "cell_type": "code",
   "execution_count": null,
   "metadata": {},
   "outputs": [],
   "source": []
  },
  {
   "cell_type": "markdown",
   "metadata": {},
   "source": [
    "### Create new DataFrame fitting weather criteria\n",
    "* Narrow down the cities to fit weather conditions.\n",
    "* Drop any rows will null values."
   ]
  },
  {
   "cell_type": "code",
   "execution_count": null,
   "metadata": {},
   "outputs": [],
   "source": []
  },
  {
   "cell_type": "markdown",
   "metadata": {},
   "source": [
    "### Hotel Map\n",
    "* Store into variable named `hotel_df`.\n",
    "* Add a \"Hotel Name\" column to the DataFrame.\n",
    "* Set parameters to search for hotels with 5000 meters.\n",
    "* Hit the Google Places API for each city's coordinates.\n",
    "* Store the first Hotel result into the DataFrame.\n",
    "* Plot markers on top of the heatmap."
   ]
  },
  {
   "cell_type": "code",
   "execution_count": null,
   "metadata": {},
   "outputs": [],
   "source": []
  },
  {
   "cell_type": "code",
   "execution_count": null,
   "metadata": {},
   "outputs": [],
   "source": []
  },
  {
   "cell_type": "code",
   "execution_count": null,
   "metadata": {},
   "outputs": [],
   "source": [
    "# NOTE: Do not change any of the code in this cell\n",
    "\n",
    "# Using the template add the hotel marks to the heatmap\n",
    "info_box_template = \"\"\"\n",
    "<dl>\n",
    "<dt>Name</dt><dd>{Hotel Name}</dd>\n",
    "<dt>City</dt><dd>{City}</dd>\n",
    "<dt>Country</dt><dd>{Country}</dd>\n",
    "</dl>\n",
    "\"\"\"\n",
    "# Store the DataFrame Row\n",
    "# NOTE: be sure to update with your DataFrame name\n",
    "hotel_info = [info_box_template.format(**row) for index, row in hotel_df.iterrows()]\n",
    "locations = hotel_df[[\"Lat\", \"Lng\"]]\n",
    "\n",
    "\n",
    "\n",
    "marker_data=lat_lon_grp.reset_index()"
   ]
  },
  {
   "cell_type": "code",
   "execution_count": null,
   "metadata": {},
   "outputs": [],
   "source": [
    "# Add marker layer ontop of heat map\n",
    "\n",
    "\n",
    "# Display figure\n"
   ]
  },
  {
   "cell_type": "code",
   "execution_count": null,
   "metadata": {},
   "outputs": [],
   "source": []
  }
 ],
 "metadata": {
  "kernelspec": {
   "display_name": "Python 3",
   "language": "python",
   "name": "python3"
  },
  "language_info": {
   "codemirror_mode": {
    "name": "ipython",
    "version": 3
   },
   "file_extension": ".py",
   "mimetype": "text/x-python",
   "name": "python",
   "nbconvert_exporter": "python",
   "pygments_lexer": "ipython3",
   "version": "3.7.4"
  },
  "latex_envs": {
   "LaTeX_envs_menu_present": true,
   "autoclose": false,
   "autocomplete": true,
   "bibliofile": "biblio.bib",
   "cite_by": "apalike",
   "current_citInitial": 1,
   "eqLabelWithNumbers": true,
   "eqNumInitial": 1,
   "hotkeys": {
    "equation": "Ctrl-E",
    "itemize": "Ctrl-I"
   },
   "labels_anchors": false,
   "latex_user_defs": false,
   "report_style_numbering": false,
   "user_envs_cfg": false
  }
 },
 "nbformat": 4,
 "nbformat_minor": 2
}
